{
 "cells": [
  {
   "cell_type": "code",
   "execution_count": 12,
   "id": "696c2fae-aa5e-4554-9b65-283f1231cb4f",
   "metadata": {},
   "outputs": [],
   "source": [
    "import numpy as np\n",
    "import matplotlib.pyplot as plt\n",
    "import pandas as pd\n",
    "import seaborn as sns"
   ]
  },
  {
   "cell_type": "code",
   "execution_count": 13,
   "id": "abad81f4-98f7-4412-88b0-d6d677ab944b",
   "metadata": {},
   "outputs": [
    {
     "data": {
      "text/html": [
       "<div>\n",
       "<style scoped>\n",
       "    .dataframe tbody tr th:only-of-type {\n",
       "        vertical-align: middle;\n",
       "    }\n",
       "\n",
       "    .dataframe tbody tr th {\n",
       "        vertical-align: top;\n",
       "    }\n",
       "\n",
       "    .dataframe thead th {\n",
       "        text-align: right;\n",
       "    }\n",
       "</style>\n",
       "<table border=\"1\" class=\"dataframe\">\n",
       "  <thead>\n",
       "    <tr style=\"text-align: right;\">\n",
       "      <th></th>\n",
       "      <th>MSSubClass</th>\n",
       "      <th>MSZoning</th>\n",
       "      <th>LotFrontage</th>\n",
       "      <th>LotArea</th>\n",
       "      <th>Street</th>\n",
       "      <th>Alley</th>\n",
       "      <th>LotShape</th>\n",
       "      <th>LandContour</th>\n",
       "      <th>Utilities</th>\n",
       "      <th>LotConfig</th>\n",
       "      <th>...</th>\n",
       "      <th>ScreenPorch</th>\n",
       "      <th>PoolArea</th>\n",
       "      <th>PoolQC</th>\n",
       "      <th>Fence</th>\n",
       "      <th>MiscFeature</th>\n",
       "      <th>MiscVal</th>\n",
       "      <th>MoSold</th>\n",
       "      <th>YrSold</th>\n",
       "      <th>SaleType</th>\n",
       "      <th>SaleCondition</th>\n",
       "    </tr>\n",
       "  </thead>\n",
       "  <tbody>\n",
       "    <tr>\n",
       "      <th>0</th>\n",
       "      <td>20</td>\n",
       "      <td>RH</td>\n",
       "      <td>80.0</td>\n",
       "      <td>11622</td>\n",
       "      <td>Pave</td>\n",
       "      <td>NaN</td>\n",
       "      <td>Reg</td>\n",
       "      <td>Lvl</td>\n",
       "      <td>AllPub</td>\n",
       "      <td>Inside</td>\n",
       "      <td>...</td>\n",
       "      <td>120</td>\n",
       "      <td>0</td>\n",
       "      <td>NaN</td>\n",
       "      <td>MnPrv</td>\n",
       "      <td>NaN</td>\n",
       "      <td>0</td>\n",
       "      <td>6</td>\n",
       "      <td>2010</td>\n",
       "      <td>WD</td>\n",
       "      <td>Normal</td>\n",
       "    </tr>\n",
       "    <tr>\n",
       "      <th>1</th>\n",
       "      <td>20</td>\n",
       "      <td>RL</td>\n",
       "      <td>81.0</td>\n",
       "      <td>14267</td>\n",
       "      <td>Pave</td>\n",
       "      <td>NaN</td>\n",
       "      <td>IR1</td>\n",
       "      <td>Lvl</td>\n",
       "      <td>AllPub</td>\n",
       "      <td>Corner</td>\n",
       "      <td>...</td>\n",
       "      <td>0</td>\n",
       "      <td>0</td>\n",
       "      <td>NaN</td>\n",
       "      <td>NaN</td>\n",
       "      <td>Gar2</td>\n",
       "      <td>12500</td>\n",
       "      <td>6</td>\n",
       "      <td>2010</td>\n",
       "      <td>WD</td>\n",
       "      <td>Normal</td>\n",
       "    </tr>\n",
       "    <tr>\n",
       "      <th>2</th>\n",
       "      <td>60</td>\n",
       "      <td>RL</td>\n",
       "      <td>74.0</td>\n",
       "      <td>13830</td>\n",
       "      <td>Pave</td>\n",
       "      <td>NaN</td>\n",
       "      <td>IR1</td>\n",
       "      <td>Lvl</td>\n",
       "      <td>AllPub</td>\n",
       "      <td>Inside</td>\n",
       "      <td>...</td>\n",
       "      <td>0</td>\n",
       "      <td>0</td>\n",
       "      <td>NaN</td>\n",
       "      <td>MnPrv</td>\n",
       "      <td>NaN</td>\n",
       "      <td>0</td>\n",
       "      <td>3</td>\n",
       "      <td>2010</td>\n",
       "      <td>WD</td>\n",
       "      <td>Normal</td>\n",
       "    </tr>\n",
       "    <tr>\n",
       "      <th>3</th>\n",
       "      <td>60</td>\n",
       "      <td>RL</td>\n",
       "      <td>78.0</td>\n",
       "      <td>9978</td>\n",
       "      <td>Pave</td>\n",
       "      <td>NaN</td>\n",
       "      <td>IR1</td>\n",
       "      <td>Lvl</td>\n",
       "      <td>AllPub</td>\n",
       "      <td>Inside</td>\n",
       "      <td>...</td>\n",
       "      <td>0</td>\n",
       "      <td>0</td>\n",
       "      <td>NaN</td>\n",
       "      <td>NaN</td>\n",
       "      <td>NaN</td>\n",
       "      <td>0</td>\n",
       "      <td>6</td>\n",
       "      <td>2010</td>\n",
       "      <td>WD</td>\n",
       "      <td>Normal</td>\n",
       "    </tr>\n",
       "    <tr>\n",
       "      <th>4</th>\n",
       "      <td>120</td>\n",
       "      <td>RL</td>\n",
       "      <td>43.0</td>\n",
       "      <td>5005</td>\n",
       "      <td>Pave</td>\n",
       "      <td>NaN</td>\n",
       "      <td>IR1</td>\n",
       "      <td>HLS</td>\n",
       "      <td>AllPub</td>\n",
       "      <td>Inside</td>\n",
       "      <td>...</td>\n",
       "      <td>144</td>\n",
       "      <td>0</td>\n",
       "      <td>NaN</td>\n",
       "      <td>NaN</td>\n",
       "      <td>NaN</td>\n",
       "      <td>0</td>\n",
       "      <td>1</td>\n",
       "      <td>2010</td>\n",
       "      <td>WD</td>\n",
       "      <td>Normal</td>\n",
       "    </tr>\n",
       "    <tr>\n",
       "      <th>...</th>\n",
       "      <td>...</td>\n",
       "      <td>...</td>\n",
       "      <td>...</td>\n",
       "      <td>...</td>\n",
       "      <td>...</td>\n",
       "      <td>...</td>\n",
       "      <td>...</td>\n",
       "      <td>...</td>\n",
       "      <td>...</td>\n",
       "      <td>...</td>\n",
       "      <td>...</td>\n",
       "      <td>...</td>\n",
       "      <td>...</td>\n",
       "      <td>...</td>\n",
       "      <td>...</td>\n",
       "      <td>...</td>\n",
       "      <td>...</td>\n",
       "      <td>...</td>\n",
       "      <td>...</td>\n",
       "      <td>...</td>\n",
       "      <td>...</td>\n",
       "    </tr>\n",
       "    <tr>\n",
       "      <th>1454</th>\n",
       "      <td>160</td>\n",
       "      <td>RM</td>\n",
       "      <td>21.0</td>\n",
       "      <td>1936</td>\n",
       "      <td>Pave</td>\n",
       "      <td>NaN</td>\n",
       "      <td>Reg</td>\n",
       "      <td>Lvl</td>\n",
       "      <td>AllPub</td>\n",
       "      <td>Inside</td>\n",
       "      <td>...</td>\n",
       "      <td>0</td>\n",
       "      <td>0</td>\n",
       "      <td>NaN</td>\n",
       "      <td>NaN</td>\n",
       "      <td>NaN</td>\n",
       "      <td>0</td>\n",
       "      <td>6</td>\n",
       "      <td>2006</td>\n",
       "      <td>WD</td>\n",
       "      <td>Normal</td>\n",
       "    </tr>\n",
       "    <tr>\n",
       "      <th>1455</th>\n",
       "      <td>160</td>\n",
       "      <td>RM</td>\n",
       "      <td>21.0</td>\n",
       "      <td>1894</td>\n",
       "      <td>Pave</td>\n",
       "      <td>NaN</td>\n",
       "      <td>Reg</td>\n",
       "      <td>Lvl</td>\n",
       "      <td>AllPub</td>\n",
       "      <td>Inside</td>\n",
       "      <td>...</td>\n",
       "      <td>0</td>\n",
       "      <td>0</td>\n",
       "      <td>NaN</td>\n",
       "      <td>NaN</td>\n",
       "      <td>NaN</td>\n",
       "      <td>0</td>\n",
       "      <td>4</td>\n",
       "      <td>2006</td>\n",
       "      <td>WD</td>\n",
       "      <td>Abnorml</td>\n",
       "    </tr>\n",
       "    <tr>\n",
       "      <th>1456</th>\n",
       "      <td>20</td>\n",
       "      <td>RL</td>\n",
       "      <td>160.0</td>\n",
       "      <td>20000</td>\n",
       "      <td>Pave</td>\n",
       "      <td>NaN</td>\n",
       "      <td>Reg</td>\n",
       "      <td>Lvl</td>\n",
       "      <td>AllPub</td>\n",
       "      <td>Inside</td>\n",
       "      <td>...</td>\n",
       "      <td>0</td>\n",
       "      <td>0</td>\n",
       "      <td>NaN</td>\n",
       "      <td>NaN</td>\n",
       "      <td>NaN</td>\n",
       "      <td>0</td>\n",
       "      <td>9</td>\n",
       "      <td>2006</td>\n",
       "      <td>WD</td>\n",
       "      <td>Abnorml</td>\n",
       "    </tr>\n",
       "    <tr>\n",
       "      <th>1457</th>\n",
       "      <td>85</td>\n",
       "      <td>RL</td>\n",
       "      <td>62.0</td>\n",
       "      <td>10441</td>\n",
       "      <td>Pave</td>\n",
       "      <td>NaN</td>\n",
       "      <td>Reg</td>\n",
       "      <td>Lvl</td>\n",
       "      <td>AllPub</td>\n",
       "      <td>Inside</td>\n",
       "      <td>...</td>\n",
       "      <td>0</td>\n",
       "      <td>0</td>\n",
       "      <td>NaN</td>\n",
       "      <td>MnPrv</td>\n",
       "      <td>Shed</td>\n",
       "      <td>700</td>\n",
       "      <td>7</td>\n",
       "      <td>2006</td>\n",
       "      <td>WD</td>\n",
       "      <td>Normal</td>\n",
       "    </tr>\n",
       "    <tr>\n",
       "      <th>1458</th>\n",
       "      <td>60</td>\n",
       "      <td>RL</td>\n",
       "      <td>74.0</td>\n",
       "      <td>9627</td>\n",
       "      <td>Pave</td>\n",
       "      <td>NaN</td>\n",
       "      <td>Reg</td>\n",
       "      <td>Lvl</td>\n",
       "      <td>AllPub</td>\n",
       "      <td>Inside</td>\n",
       "      <td>...</td>\n",
       "      <td>0</td>\n",
       "      <td>0</td>\n",
       "      <td>NaN</td>\n",
       "      <td>NaN</td>\n",
       "      <td>NaN</td>\n",
       "      <td>0</td>\n",
       "      <td>11</td>\n",
       "      <td>2006</td>\n",
       "      <td>WD</td>\n",
       "      <td>Normal</td>\n",
       "    </tr>\n",
       "  </tbody>\n",
       "</table>\n",
       "<p>1459 rows × 79 columns</p>\n",
       "</div>"
      ],
      "text/plain": [
       "      MSSubClass MSZoning  LotFrontage  LotArea Street Alley LotShape  \\\n",
       "0             20       RH         80.0    11622   Pave   NaN      Reg   \n",
       "1             20       RL         81.0    14267   Pave   NaN      IR1   \n",
       "2             60       RL         74.0    13830   Pave   NaN      IR1   \n",
       "3             60       RL         78.0     9978   Pave   NaN      IR1   \n",
       "4            120       RL         43.0     5005   Pave   NaN      IR1   \n",
       "...          ...      ...          ...      ...    ...   ...      ...   \n",
       "1454         160       RM         21.0     1936   Pave   NaN      Reg   \n",
       "1455         160       RM         21.0     1894   Pave   NaN      Reg   \n",
       "1456          20       RL        160.0    20000   Pave   NaN      Reg   \n",
       "1457          85       RL         62.0    10441   Pave   NaN      Reg   \n",
       "1458          60       RL         74.0     9627   Pave   NaN      Reg   \n",
       "\n",
       "     LandContour Utilities LotConfig  ... ScreenPorch PoolArea PoolQC  Fence  \\\n",
       "0            Lvl    AllPub    Inside  ...         120        0    NaN  MnPrv   \n",
       "1            Lvl    AllPub    Corner  ...           0        0    NaN    NaN   \n",
       "2            Lvl    AllPub    Inside  ...           0        0    NaN  MnPrv   \n",
       "3            Lvl    AllPub    Inside  ...           0        0    NaN    NaN   \n",
       "4            HLS    AllPub    Inside  ...         144        0    NaN    NaN   \n",
       "...          ...       ...       ...  ...         ...      ...    ...    ...   \n",
       "1454         Lvl    AllPub    Inside  ...           0        0    NaN    NaN   \n",
       "1455         Lvl    AllPub    Inside  ...           0        0    NaN    NaN   \n",
       "1456         Lvl    AllPub    Inside  ...           0        0    NaN    NaN   \n",
       "1457         Lvl    AllPub    Inside  ...           0        0    NaN  MnPrv   \n",
       "1458         Lvl    AllPub    Inside  ...           0        0    NaN    NaN   \n",
       "\n",
       "     MiscFeature MiscVal  MoSold  YrSold  SaleType  SaleCondition  \n",
       "0            NaN       0       6    2010        WD         Normal  \n",
       "1           Gar2   12500       6    2010        WD         Normal  \n",
       "2            NaN       0       3    2010        WD         Normal  \n",
       "3            NaN       0       6    2010        WD         Normal  \n",
       "4            NaN       0       1    2010        WD         Normal  \n",
       "...          ...     ...     ...     ...       ...            ...  \n",
       "1454         NaN       0       6    2006        WD         Normal  \n",
       "1455         NaN       0       4    2006        WD        Abnorml  \n",
       "1456         NaN       0       9    2006        WD        Abnorml  \n",
       "1457        Shed     700       7    2006        WD         Normal  \n",
       "1458         NaN       0      11    2006        WD         Normal  \n",
       "\n",
       "[1459 rows x 79 columns]"
      ]
     },
     "execution_count": 13,
     "metadata": {},
     "output_type": "execute_result"
    }
   ],
   "source": [
    "df_bn=pd.read_csv(\"test.csv\")\n",
    "df_bn.drop(['Id'],axis=1,inplace=True)\n",
    "df_bn"
   ]
  },
  {
   "cell_type": "code",
   "execution_count": 14,
   "id": "c90970f0-d88a-4293-867e-b0a3b00bf3de",
   "metadata": {},
   "outputs": [
    {
     "name": "stdout",
     "output_type": "stream",
     "text": [
      "MSZoning 4\n",
      "LotFrontage 227\n",
      "Alley 1352\n",
      "Utilities 2\n",
      "MasVnrType 16\n",
      "MasVnrArea 15\n",
      "BsmtQual 44\n",
      "BsmtCond 45\n",
      "BsmtExposure 44\n",
      "BsmtFinType1 42\n",
      "BsmtFinType2 42\n",
      "BsmtFullBath 2\n",
      "BsmtHalfBath 2\n",
      "Functional 2\n",
      "FireplaceQu 730\n",
      "GarageType 76\n",
      "GarageYrBlt 78\n",
      "GarageFinish 78\n",
      "GarageQual 78\n",
      "GarageCond 78\n",
      "PoolQC 1456\n",
      "Fence 1169\n",
      "MiscFeature 1408\n"
     ]
    }
   ],
   "source": [
    "for feature in df_bn.columns:\n",
    "    if df_bn[feature].isna().sum()>1:\n",
    "        print(feature, df_bn[feature].isna().sum())"
   ]
  },
  {
   "cell_type": "code",
   "execution_count": 15,
   "id": "d0f50c82-2fbc-4ea2-8588-4ce5aca7d9fc",
   "metadata": {},
   "outputs": [],
   "source": [
    "df=df_bn"
   ]
  },
  {
   "cell_type": "code",
   "execution_count": 16,
   "id": "312c08c0-04ea-4369-96fa-d7e8b09a38b2",
   "metadata": {},
   "outputs": [],
   "source": [
    "df.drop(['Alley'],axis=1,inplace=True)\n",
    "df.drop(['MiscFeature'],axis=1,inplace=True)\n",
    "df.drop(['PoolQC'],axis=1,inplace=True)\n",
    "df.drop(['Fence'],axis=1,inplace=True)\n",
    "df['MasVnrType'] = df['MasVnrType'].fillna(df['MasVnrType'].mode()[0])\n",
    "df['BsmtQual'] = df['BsmtQual'].fillna(df['BsmtQual'].mode()[0])"
   ]
  },
  {
   "cell_type": "code",
   "execution_count": 29,
   "id": "63f36b33-0acd-4fed-91c2-d8565701c90f",
   "metadata": {},
   "outputs": [],
   "source": [
    "for feature in df.columns:\n",
    "    if df[feature].dtype=='O' and df[feature].isnull().sum()>0:\n",
    "        df[feature] = df[feature].fillna(df[feature].mode()[0])"
   ]
  },
  {
   "cell_type": "code",
   "execution_count": 30,
   "id": "b565d49a-d2bb-4e94-8987-0dd6c2e78708",
   "metadata": {},
   "outputs": [],
   "source": [
    "for feature in df.columns:\n",
    "    if df[feature].dtype!='O' and df[feature].isnull().sum()>0:\n",
    "        df[feature] = df[feature].fillna(df[feature].mean())"
   ]
  },
  {
   "cell_type": "code",
   "execution_count": 33,
   "id": "be1075e8-bfcf-49f5-9b5a-ef7b2a3060ec",
   "metadata": {},
   "outputs": [
    {
     "data": {
      "text/plain": [
       "<AxesSubplot:>"
      ]
     },
     "execution_count": 33,
     "metadata": {},
     "output_type": "execute_result"
    },
    {
     "data": {
      "image/png": "[encoded data removed]",
      "text/plain": [
       "<Figure size 432x288 with 1 Axes>"
      ]
     },
     "metadata": {
      "needs_background": "light"
     },
     "output_type": "display_data"
    }
   ],
   "source": [
    "sns.heatmap(df.isnull(),yticklabels=False,cbar=False)"
   ]
  },
  {
   "cell_type": "code",
   "execution_count": 39,
   "id": "9b18f6a2-a322-4502-86f5-83fe39712c35",
   "metadata": {
    "id": "Fa_2d2EAPwFU"
   },
   "outputs": [],
   "source": [
    "from sklearn.preprocessing import OrdinalEncoder\n",
    "df_bn = df.copy()"
   ]
  },
  {
   "cell_type": "code",
   "execution_count": 40,
   "id": "4e9db964-140a-40d1-8e91-4f070ae077b2",
   "metadata": {
    "id": "jGqCv3Dxamy7"
   },
   "outputs": [],
   "source": [
    "zoning_order = ['FV', 'RL', 'RH', 'RM', 'C (all)']\n",
    "enco = OrdinalEncoder (categories=[zoning_order])\n",
    "enco.fit(df_bn[['MSZoning']])\n",
    "final=pd.DataFrame(enco.transform(df_bn[['MSZoning']]))\n",
    "df_bn['MSZoning']=final"
   ]
  },
  {
   "cell_type": "code",
   "execution_count": 41,
   "id": "2adb9a85-c5df-4eac-8051-8bc6e52bf584",
   "metadata": {
    "id": "K2JF2nzOHFwI"
   },
   "outputs": [
    {
     "data": {
      "text/plain": [
       "array([0., 1.])"
      ]
     },
     "execution_count": 41,
     "metadata": {},
     "output_type": "execute_result"
    }
   ],
   "source": [
    "street_order = ['Pave', 'Grvl']\n",
    "enco = OrdinalEncoder (categories=[street_order])\n",
    "enco.fit(df_bn[['Street']])\n",
    "final=pd.DataFrame(enco.transform(df_bn[['Street']]))\n",
    "df_bn['Street']=final\n",
    "df_bn['Street'].unique()"
   ]
  },
  {
   "cell_type": "code",
   "execution_count": 42,
   "id": "226bd0b0-b7de-465f-b816-4b400dc68ffa",
   "metadata": {
    "colab": {
     "base_uri": "https://localhost:8080/"
    },
    "id": "56Q2G1PiebsJ",
    "outputId": "1ab20cdc-876f-402f-a995-ed6644b964e9"
   },
   "outputs": [],
   "source": [
    "df_bn['LotShape'].unique()\n",
    "lshape_order = ['IR2', 'IR3','IR1','Reg']\n",
    "enco = OrdinalEncoder (categories=[lshape_order])\n",
    "enco.fit(df_bn[['LotShape']])\n",
    "final=pd.DataFrame(enco.transform(df_bn[['LotShape']]))\n",
    "df_bn['LotShape']=final"
   ]
  },
  {
   "cell_type": "code",
   "execution_count": 43,
   "id": "bbac088d-4fb4-4c6f-a3e5-c5a25fa5b7af",
   "metadata": {
    "id": "eIkRSXGjgOF8"
   },
   "outputs": [],
   "source": [
    "lcont_order = ['HLS', 'Low','Lvl','Bnk']\n",
    "enco = OrdinalEncoder (categories=[lcont_order])\n",
    "enco.fit(df_bn[['LandContour']])\n",
    "final=pd.DataFrame(enco.transform(df_bn[['LandContour']]))\n",
    "df_bn['LandContour']=final"
   ]
  },
  {
   "cell_type": "code",
   "execution_count": 44,
   "id": "2a32e554-2f03-48f1-960c-b585fa954e1d",
   "metadata": {
    "id": "Xo1qs13Nh5Pc"
   },
   "outputs": [],
   "source": [
    "util_order = ['AllPub', 'NoSeWa']\n",
    "enco = OrdinalEncoder (categories=[util_order])\n",
    "enco.fit(df_bn[['Utilities']])\n",
    "final=pd.DataFrame(enco.transform(df_bn[['Utilities']]))\n",
    "df_bn['Utilities']=final"
   ]
  },
  {
   "cell_type": "code",
   "execution_count": 45,
   "id": "3870bc87-2fd8-413a-bba2-73be0edeb436",
   "metadata": {
    "id": "6ZwF7t7LjQRL",
    "tags": []
   },
   "outputs": [],
   "source": [
    "lcon_order = ['CulDSac', 'FR3', 'FR2', 'Inside', 'Corner']\n",
    "enco = OrdinalEncoder (categories=[lcon_order])\n",
    "enco.fit(df_bn[['LotConfig']])\n",
    "final=pd.DataFrame(enco.transform(df_bn[['LotConfig']]))\n",
    "df_bn['LotConfig']=final"
   ]
  },
  {
   "cell_type": "code",
   "execution_count": 46,
   "id": "f223668e-8258-4663-aebd-79922dbff7bc",
   "metadata": {
    "id": "nGRBAwZlqCC6"
   },
   "outputs": [],
   "source": [
    "lslope_order = ['Mod', 'Sev', 'Gtl']\n",
    "enco = OrdinalEncoder (categories=[lslope_order])\n",
    "enco.fit(df_bn[['LandSlope']])\n",
    "final=pd.DataFrame(enco.transform(df_bn[['LandSlope']]))\n",
    "df_bn['LandSlope']=final"
   ]
  },
  {
   "cell_type": "code",
   "execution_count": 47,
   "id": "3e00369c-8d72-46ec-9bc4-8862cf49438d",
   "metadata": {
    "id": "jEJiSFAesaKt"
   },
   "outputs": [],
   "source": [
    "con1_order = ['PosA', 'PosN', 'RRNn', 'RRNe', 'RRAn', 'Norm', 'RRAe', 'Feedr', 'Artery']\n",
    "enco = OrdinalEncoder (categories=[con1_order])\n",
    "enco.fit(df_bn[['Condition1']])\n",
    "final=pd.DataFrame(enco.transform(df_bn[['Condition1']]))\n",
    "df_bn['Condition1']=final"
   ]
  },
  {
   "cell_type": "code",
   "execution_count": 48,
   "id": "d74172b9-f6d9-43a1-938f-afa8deaba270",
   "metadata": {
    "id": "fSNlZw9QuMjC"
   },
   "outputs": [],
   "source": [
    "con2_order = ['PosA', 'PosN', 'RRAe', 'Norm', 'RRAn', 'Feedr', 'Artery', 'RRNn']\n",
    "enco = OrdinalEncoder (categories=[con2_order])\n",
    "enco.fit(df_bn[['Condition2']])\n",
    "final=pd.DataFrame(enco.transform(df_bn[['Condition2']]))\n",
    "df_bn['Condition2']=final"
   ]
  },
  {
   "cell_type": "code",
   "execution_count": 49,
   "id": "4aaa87a3-5ccd-44e8-8ea4-ef5d5480440d",
   "metadata": {
    "id": "5MnSdftzyx3a"
   },
   "outputs": [],
   "source": [
    "bldg_order = ['TwnhsE', '1Fam', 'Twnhs', 'Duplex', '2fmCon']\n",
    "enco = OrdinalEncoder (categories=[bldg_order])\n",
    "enco.fit(df_bn[['BldgType']])\n",
    "final=pd.DataFrame(enco.transform(df_bn[['BldgType']]))\n",
    "df_bn['BldgType']=final"
   ]
  },
  {
   "cell_type": "code",
   "execution_count": 50,
   "id": "638eaa98-8fc8-4056-970b-91061b8e987b",
   "metadata": {
    "id": "JWq2we7C_fHk"
   },
   "outputs": [],
   "source": [
    "hstyle_order = ['2.5Fin', '2Story', 'SLvl', '1Story', '2.5Unf', 'SFoyer', '1.5Fin', '1.5Unf']\n",
    "enco = OrdinalEncoder (categories=[hstyle_order])\n",
    "enco.fit(df_bn[['HouseStyle']])\n",
    "final=pd.DataFrame(enco.transform(df_bn[['HouseStyle']]))\n",
    "df_bn['HouseStyle']=final"
   ]
  },
  {
   "cell_type": "code",
   "execution_count": 51,
   "id": "d3647aab-2e60-4fde-b5f8-e055acb121a1",
   "metadata": {
    "id": "W5VhEubcBI6e"
   },
   "outputs": [],
   "source": [
    "rstyle_order = ['Shed', 'Flat','Hip','Mansard','Gable','Gambrel']"
   ]
  },
  {
   "cell_type": "code",
   "execution_count": 52,
   "id": "1a670a18-315d-4fd9-9384-e5052c9aee62",
   "metadata": {
    "id": "_Kdh57FLBM9R"
   },
   "outputs": [],
   "source": [
    "enco = OrdinalEncoder (categories=[rstyle_order])\n",
    "enco.fit(df_bn[['RoofStyle']])\n",
    "final=pd.DataFrame(enco.transform(df_bn[['RoofStyle']]))\n",
    "df_bn['RoofStyle']=final"
   ]
  },
  {
   "cell_type": "code",
   "execution_count": 53,
   "id": "290ff04c-5f00-4cac-a4bb-ac83734ea001",
   "metadata": {
    "id": "mYl_949DEOy2"
   },
   "outputs": [],
   "source": [
    "rmatl_order = ['WdShngl', 'WdShake','Membran','Metal','Tar&Grv','CompShg','ClyTile','Roll']\n",
    "enco = OrdinalEncoder (categories=[rmatl_order])\n",
    "enco.fit(df_bn[['RoofMatl']])\n",
    "final=pd.DataFrame(enco.transform(df_bn[['RoofMatl']]))\n",
    "df_bn['RoofMatl']=final"
   ]
  },
  {
   "cell_type": "code",
   "execution_count": 54,
   "id": "438a29d5-a1cc-4ce3-b0b1-e4181abcd301",
   "metadata": {
    "id": "VFCt3u96Gch_"
   },
   "outputs": [],
   "source": [
    "masvnr_order = ['Stone', 'BrkFace','None','BrkCmn']\n",
    "enco = OrdinalEncoder (categories=[masvnr_order])\n",
    "enco.fit(df_bn[['MasVnrType']])\n",
    "final=pd.DataFrame(enco.transform(df_bn[['MasVnrType']]))\n",
    "df_bn['MasVnrType']=final"
   ]
  },
  {
   "cell_type": "code",
   "execution_count": 55,
   "id": "e2b0b03c-c4b4-419f-8906-bbf562803d1e",
   "metadata": {
    "id": "zRwrSkw-HQ2h"
   },
   "outputs": [],
   "source": [
    "exqual_order = ['Ex','Gd','TA','Fa']\n",
    "enco = OrdinalEncoder (categories=[exqual_order])\n",
    "enco.fit(df_bn[['ExterQual']])\n",
    "final=pd.DataFrame(enco.transform(df_bn[['ExterQual']]))\n",
    "df_bn['ExterQual']=final"
   ]
  },
  {
   "cell_type": "code",
   "execution_count": 56,
   "id": "d11c0179-7bf3-44ad-99e1-59066ad58798",
   "metadata": {
    "id": "6eTCZk0qKNa9"
   },
   "outputs": [],
   "source": [
    "xcond_order = ['TA','Ex', 'Gd','Fa','Po']\n",
    "enco = OrdinalEncoder (categories=[xcond_order])\n",
    "enco.fit(df_bn[['ExterCond']])\n",
    "final=pd.DataFrame(enco.transform(df_bn[['ExterCond']]))\n",
    "df_bn['ExterCond']=final"
   ]
  },
  {
   "cell_type": "code",
   "execution_count": 57,
   "id": "fca8b61a-0c93-400d-90d6-1c6999e6528d",
   "metadata": {
    "id": "miTwgoieNKnv"
   },
   "outputs": [],
   "source": [
    "foundation_order = ['PConc', 'Wood','CBlock','Stone','BrkTil','Slab']\n",
    "enco = OrdinalEncoder (categories=[foundation_order])\n",
    "enco.fit(df_bn[['Foundation']])\n",
    "final=pd.DataFrame(enco.transform(df_bn[['Foundation']]))\n",
    "df_bn['Foundation']=final"
   ]
  },
  {
   "cell_type": "code",
   "execution_count": 58,
   "id": "3e60a9b2-c8f2-454c-b765-df5f74d852e9",
   "metadata": {
    "id": "MHn_xqFRPeRD"
   },
   "outputs": [],
   "source": [
    "bqual_order = ['Ex','Gd','TA','Fa']\n",
    "enco = OrdinalEncoder (categories=[bqual_order])\n",
    "enco.fit(df_bn[['BsmtQual']])\n",
    "final=pd.DataFrame(enco.transform(df_bn[['BsmtQual']]))\n",
    "df_bn['BsmtQual']=final"
   ]
  },
  {
   "cell_type": "code",
   "execution_count": 59,
   "id": "a55cfe15-28fb-4184-a31f-bb215f461752",
   "metadata": {
    "id": "M838e5CETCyH"
   },
   "outputs": [],
   "source": [
    "bcond_order = ['Gd','TA','Fa','Po']\n",
    "enco = OrdinalEncoder (categories=[bcond_order ])\n",
    "enco.fit(df_bn[['BsmtCond']])\n",
    "final=pd.DataFrame(enco.transform(df_bn[['BsmtCond']]))\n",
    "df_bn['BsmtCond']=final"
   ]
  },
  {
   "cell_type": "code",
   "execution_count": 60,
   "id": "0335ca50-5211-4adf-9f15-55991ab0c340",
   "metadata": {
    "id": "LeK6mQtrXID8"
   },
   "outputs": [],
   "source": [
    "bexp_order = ['Gd','Av','Mn','No']\n",
    "enco = OrdinalEncoder (categories=[bexp_order])\n",
    "enco.fit(df_bn[['BsmtExposure']])\n",
    "final=pd.DataFrame(enco.transform(df_bn[['BsmtExposure']]))\n",
    "df_bn['BsmtExposure']=final"
   ]
  },
  {
   "cell_type": "code",
   "execution_count": 61,
   "id": "dc952826-1ec2-4892-a3b1-c7b604e234ac",
   "metadata": {
    "id": "yqjUOCH6dPhj"
   },
   "outputs": [],
   "source": [
    "bft_order = ['GLQ','Unf','ALQ','Rec','BLQ','LwQ']\n",
    "enco = OrdinalEncoder (categories=[bft_order])\n",
    "enco.fit(df_bn[['BsmtFinType1']])\n",
    "final=pd.DataFrame(enco.transform(df_bn[['BsmtFinType1']]))\n",
    "df_bn['BsmtFinType1']=final"
   ]
  },
  {
   "cell_type": "code",
   "execution_count": 62,
   "id": "d2bee56d-13ed-4933-9baf-9a3372347903",
   "metadata": {
    "id": "JEQhTG6JkqE_"
   },
   "outputs": [],
   "source": [
    "bft2_order = ['GLQ','ALQ','Unf','LwQ','Rec','BLQ']\n",
    "enco = OrdinalEncoder (categories=[bft2_order])\n",
    "enco.fit(df_bn[['BsmtFinType2']])\n",
    "final=pd.DataFrame(enco.transform(df_bn[['BsmtFinType2']]))\n",
    "df_bn['BsmtFinType2']=final"
   ]
  },
  {
   "cell_type": "code",
   "execution_count": 63,
   "id": "ae69407d-e821-454b-af43-3eba2eb876b7",
   "metadata": {
    "id": "CdTqpPG7p1yg"
   },
   "outputs": [],
   "source": [
    "heat_order = ['GasA','GasW','OthW','Wall','Grav','Floor']\n",
    "enco = OrdinalEncoder (categories=[heat_order])\n",
    "enco.fit(df_bn[['Heating']])\n",
    "df_bn['Heating']=final"
   ]
  },
  {
   "cell_type": "code",
   "execution_count": 64,
   "id": "0cf8e083-9593-4af8-b7a2-1abe6f76831c",
   "metadata": {
    "id": "P2oSPg0xrmZ-"
   },
   "outputs": [],
   "source": [
    "heatqc_order = ['Ex','Gd','TA','Fa','Po']\n",
    "enco = OrdinalEncoder (categories=[heatqc_order])\n",
    "enco.fit(df_bn[['HeatingQC']])\n",
    "final=pd.DataFrame(enco.transform(df_bn[['HeatingQC']]))\n",
    "df_bn['HeatingQC']=final"
   ]
  },
  {
   "cell_type": "code",
   "execution_count": 65,
   "id": "36f633bb-aac2-4cb1-8ff7-4844c073b84c",
   "metadata": {
    "id": "nylf9XuK3hnK"
   },
   "outputs": [],
   "source": [
    "cair_order = ['Y','N']\n",
    "enco = OrdinalEncoder (categories=[cair_order])\n",
    "enco.fit(df_bn[['CentralAir']])\n",
    "final=pd.DataFrame(enco.transform(df_bn[['CentralAir']]))\n",
    "df_bn['CentralAir']=final"
   ]
  },
  {
   "cell_type": "code",
   "execution_count": 66,
   "id": "81dfe7ce-654b-4b41-aa7b-af2d6cc1bff1",
   "metadata": {
    "id": "X3hIDUSh7AjS"
   },
   "outputs": [],
   "source": [
    "elec_order = ['SBrkr','FuseA', 'FuseF','FuseP','Mix']\n",
    "enco = OrdinalEncoder (categories=[elec_order])\n",
    "enco.fit(df_bn[['Electrical']])\n",
    "final=pd.DataFrame(enco.transform(df_bn[['Electrical']]))\n",
    "df_bn['Electrical']=final"
   ]
  },
  {
   "cell_type": "code",
   "execution_count": 67,
   "id": "3d0c6787-8b0e-408f-84ee-e7d3914887e6",
   "metadata": {
    "id": "_m5c4mwU8_-g"
   },
   "outputs": [],
   "source": [
    "kqual_order = ['Ex','Gd', 'TA','Fa']\n",
    "enco = OrdinalEncoder (categories=[kqual_order])\n",
    "enco.fit(df_bn[['KitchenQual']])\n",
    "final=pd.DataFrame(enco.transform(df_bn[['KitchenQual']]))\n",
    "df_bn['KitchenQual']=final"
   ]
  },
  {
   "cell_type": "code",
   "execution_count": 68,
   "id": "075940e9-59bd-403e-8125-3620fd46e8c9",
   "metadata": {
    "id": "b8LiCkFK-cvM"
   },
   "outputs": [],
   "source": [
    "fun_order = ['Typ','Maj1','Min2','Min1','Mod','Sev','Maj2']\n",
    "enco = OrdinalEncoder (categories=[fun_order])\n",
    "enco.fit(df_bn[['Functional']])\n",
    "final=pd.DataFrame(enco.transform(df_bn[['Functional']]))\n",
    "df_bn['Functional']=final"
   ]
  },
  {
   "cell_type": "code",
   "execution_count": 69,
   "id": "b244f645-31b2-4d0a-813f-b76e88e2dab4",
   "metadata": {
    "id": "go_loFhwEvvj"
   },
   "outputs": [],
   "source": [
    "gtyp_order = ['BuiltIn','Attchd','2Types','Basment','Detchd','CarPort']\n",
    "enco = OrdinalEncoder (categories=[gtyp_order])\n",
    "enco.fit(df_bn[['GarageType']])\n",
    "final=pd.DataFrame(enco.transform(df_bn[['GarageType']]))\n",
    "df_bn['GarageType']=final"
   ]
  },
  {
   "cell_type": "code",
   "execution_count": 70,
   "id": "79d22e26-0cf6-479c-bfb0-20cb94a7a786",
   "metadata": {
    "id": "UOlWhX73MfZe"
   },
   "outputs": [],
   "source": [
    "gfin_order = ['Fin','RFn','Unf']\n",
    "enco = OrdinalEncoder (categories=[gfin_order])\n",
    "enco.fit(df_bn[['GarageFinish']])\n",
    "final=pd.DataFrame(enco.transform(df_bn[['GarageFinish']]))\n",
    "df_bn['GarageFinish']=final"
   ]
  },
  {
   "cell_type": "code",
   "execution_count": 71,
   "id": "26f75fba-044d-4434-a733-b466b4143b99",
   "metadata": {
    "id": "9G4MdoJKNMaU"
   },
   "outputs": [],
   "source": [
    "gqa_order = ['Gd','TA','Ex','Fa','Po']\n",
    "enco = OrdinalEncoder (categories=[gqa_order])\n",
    "enco.fit(df_bn[['GarageQual']])\n",
    "final=pd.DataFrame(enco.transform(df_bn[['GarageQual']]))\n",
    "df_bn['GarageQual']=final"
   ]
  },
  {
   "cell_type": "code",
   "execution_count": 72,
   "id": "2474d2e8-17c4-4cfa-8e5c-8acbcc179bfc",
   "metadata": {
    "id": "jJV9k0QmQ1T8"
   },
   "outputs": [],
   "source": [
    "gcond_order = ['TA','Gd','Ex','Fa','Po']\n",
    "enco = OrdinalEncoder (categories=[gcond_order])\n",
    "enco.fit(df_bn[['GarageCond']])\n",
    "final=pd.DataFrame(enco.transform(df_bn[['GarageCond']]))\n",
    "df_bn['GarageCond']=final"
   ]
  },
  {
   "cell_type": "code",
   "execution_count": 73,
   "id": "d57b0a09-e7e5-412e-ad46-0f51ec01e43f",
   "metadata": {
    "id": "XPgF5sAnThcb"
   },
   "outputs": [],
   "source": [
    "pdrive_order = ['Y','P','N']\n",
    "enco = OrdinalEncoder (categories=[pdrive_order])\n",
    "enco.fit(df_bn[['PavedDrive']])\n",
    "final=pd.DataFrame(enco.transform(df_bn[['PavedDrive']]))\n",
    "df_bn['PavedDrive']=final"
   ]
  },
  {
   "cell_type": "code",
   "execution_count": 74,
   "id": "43d7b914-55ad-4d92-a695-09aa99eab638",
   "metadata": {
    "id": "iYNpjdKLuB2U"
   },
   "outputs": [],
   "source": [
    "sltyp_order = ['Con','New','CWD','WD','COD','ConLw','ConLD','ConLI','Oth']\n",
    "enco = OrdinalEncoder (categories=[sltyp_order])\n",
    "enco.fit(df_bn[['SaleType']])\n",
    "final=pd.DataFrame(enco.transform(df_bn[['SaleType']]))\n",
    "df_bn['SaleType']=final"
   ]
  },
  {
   "cell_type": "code",
   "execution_count": 75,
   "id": "af6380c1-e968-4a04-946d-39b9e590356b",
   "metadata": {
    "colab": {
     "base_uri": "https://localhost:8080/"
    },
    "id": "tpX64FTQuxO2",
    "outputId": "cde762c9-f267-4c70-c275-3c53bbf7711f"
   },
   "outputs": [],
   "source": [
    "slcnd_order = ['Partial','Normal','Alloca','Family','Abnorml','AdjLand']\n",
    "enco = OrdinalEncoder (categories=[slcnd_order])\n",
    "enco.fit(df_bn[['SaleCondition']])\n",
    "final=pd.DataFrame(enco.transform(df_bn[['SaleCondition']]))\n",
    "df_bn['SaleCondition']=final"
   ]
  },
  {
   "cell_type": "code",
   "execution_count": 76,
   "id": "ee9505fb-5248-483c-8269-1907e03153f9",
   "metadata": {
    "id": "WQFP1-oAier1"
   },
   "outputs": [],
   "source": [
    "neighb_order = ['MeadowV','IDOTRR','BrDale','OldTown','Edwards','BrkSide','Sawyer','Blueste','SWISU','NAmes','NPkVill','Mitchel','SawyerW','Gilbert','NWAmes','Blmngtn','CollgCr','ClearCr','Crawfor','Veenker','Somerst','Timber','StoneBr','NoRidge','NridgHt']\n",
    "neighb_order.reverse()\n",
    "enco = OrdinalEncoder (categories=[neighb_order])\n",
    "enco.fit(df_bn[['Neighborhood']])\n",
    "final=pd.DataFrame(enco.transform(df_bn[['Neighborhood']]))\n",
    "df_bn['Neighborhood']=final"
   ]
  },
  {
   "cell_type": "code",
   "execution_count": 77,
   "id": "2aec1b05-c450-4b95-87c5-78764debfa67",
   "metadata": {
    "id": "NMxwPTTzmasi"
   },
   "outputs": [],
   "source": [
    "exterior1st_order = ['BrkComm','AsphShn','CBlock','AsbShng','WdShing','Wd Sdng','MetalSd','Stucco','HdBoard','BrkFace','Plywood','VinylSd','CemntBd','Stone','ImStucc']\n",
    "exterior1st_order.reverse()\n",
    "enco = OrdinalEncoder (categories=[exterior1st_order])\n",
    "enco.fit(df_bn[['Exterior1st']])\n",
    "final=pd.DataFrame(enco.transform(df_bn[['Exterior1st']]))\n",
    "df_bn['Exterior1st']=final"
   ]
  },
  {
   "cell_type": "code",
   "execution_count": 78,
   "id": "525280ab-2d5c-4231-af2a-b383f67cb2cb",
   "metadata": {
    "id": "poP_qEEWnsyC"
   },
   "outputs": [],
   "source": [
    "exterior2nd_order = ['CBlock','AsbShng','Wd Sdng','Wd Shng','MetalSd','AsphShn','Stucco','Brk Cmn','HdBoard','BrkFace','Plywood','Stone','ImStucc','VinylSd','CmentBd','Other']\n",
    "exterior2nd_order.reverse()\n",
    "enco = OrdinalEncoder (categories=[exterior2nd_order])\n",
    "enco.fit(df_bn[['Exterior2nd']])\n",
    "final=pd.DataFrame(enco.transform(df_bn[['Exterior2nd']]))\n",
    "df_bn['Exterior2nd']=final"
   ]
  },
  {
   "cell_type": "code",
   "execution_count": 79,
   "id": "619aab2e-0bd9-4be6-8f5c-fdb2a0c6a174",
   "metadata": {
    "id": "qU8hpySdx5hg"
   },
   "outputs": [],
   "source": [
    "fireplace_order = ['NA','Po','Gd','Fa','TA','Ex']\n",
    "fireplace_order.reverse()\n",
    "enco = OrdinalEncoder (categories=[fireplace_order])\n",
    "enco.fit(df_bn[['FireplaceQu']])\n",
    "final=pd.DataFrame(enco.transform(df_bn[['FireplaceQu']]))\n",
    "df_bn['FireplaceQu']=final"
   ]
  },
  {
   "cell_type": "code",
   "execution_count": 80,
   "id": "6e4b7a9c-3ab0-4c28-806b-7133fad4bdc0",
   "metadata": {},
   "outputs": [
    {
     "data": {
      "text/html": [
       "<div>\n",
       "<style scoped>\n",
       "    .dataframe tbody tr th:only-of-type {\n",
       "        vertical-align: middle;\n",
       "    }\n",
       "\n",
       "    .dataframe tbody tr th {\n",
       "        vertical-align: top;\n",
       "    }\n",
       "\n",
       "    .dataframe thead th {\n",
       "        text-align: right;\n",
       "    }\n",
       "</style>\n",
       "<table border=\"1\" class=\"dataframe\">\n",
       "  <thead>\n",
       "    <tr style=\"text-align: right;\">\n",
       "      <th></th>\n",
       "      <th>MSSubClass</th>\n",
       "      <th>MSZoning</th>\n",
       "      <th>LotFrontage</th>\n",
       "      <th>LotArea</th>\n",
       "      <th>Street</th>\n",
       "      <th>LotShape</th>\n",
       "      <th>LandContour</th>\n",
       "      <th>Utilities</th>\n",
       "      <th>LotConfig</th>\n",
       "      <th>LandSlope</th>\n",
       "      <th>...</th>\n",
       "      <th>OpenPorchSF</th>\n",
       "      <th>EnclosedPorch</th>\n",
       "      <th>3SsnPorch</th>\n",
       "      <th>ScreenPorch</th>\n",
       "      <th>PoolArea</th>\n",
       "      <th>MiscVal</th>\n",
       "      <th>MoSold</th>\n",
       "      <th>YrSold</th>\n",
       "      <th>SaleType</th>\n",
       "      <th>SaleCondition</th>\n",
       "    </tr>\n",
       "  </thead>\n",
       "  <tbody>\n",
       "    <tr>\n",
       "      <th>0</th>\n",
       "      <td>20</td>\n",
       "      <td>2.0</td>\n",
       "      <td>80.0</td>\n",
       "      <td>11622</td>\n",
       "      <td>0.0</td>\n",
       "      <td>3.0</td>\n",
       "      <td>2.0</td>\n",
       "      <td>0.0</td>\n",
       "      <td>3.0</td>\n",
       "      <td>2.0</td>\n",
       "      <td>...</td>\n",
       "      <td>0</td>\n",
       "      <td>0</td>\n",
       "      <td>0</td>\n",
       "      <td>120</td>\n",
       "      <td>0</td>\n",
       "      <td>0</td>\n",
       "      <td>6</td>\n",
       "      <td>2010</td>\n",
       "      <td>3.0</td>\n",
       "      <td>1.0</td>\n",
       "    </tr>\n",
       "    <tr>\n",
       "      <th>1</th>\n",
       "      <td>20</td>\n",
       "      <td>1.0</td>\n",
       "      <td>81.0</td>\n",
       "      <td>14267</td>\n",
       "      <td>0.0</td>\n",
       "      <td>2.0</td>\n",
       "      <td>2.0</td>\n",
       "      <td>0.0</td>\n",
       "      <td>4.0</td>\n",
       "      <td>2.0</td>\n",
       "      <td>...</td>\n",
       "      <td>36</td>\n",
       "      <td>0</td>\n",
       "      <td>0</td>\n",
       "      <td>0</td>\n",
       "      <td>0</td>\n",
       "      <td>12500</td>\n",
       "      <td>6</td>\n",
       "      <td>2010</td>\n",
       "      <td>3.0</td>\n",
       "      <td>1.0</td>\n",
       "    </tr>\n",
       "    <tr>\n",
       "      <th>2</th>\n",
       "      <td>60</td>\n",
       "      <td>1.0</td>\n",
       "      <td>74.0</td>\n",
       "      <td>13830</td>\n",
       "      <td>0.0</td>\n",
       "      <td>2.0</td>\n",
       "      <td>2.0</td>\n",
       "      <td>0.0</td>\n",
       "      <td>3.0</td>\n",
       "      <td>2.0</td>\n",
       "      <td>...</td>\n",
       "      <td>34</td>\n",
       "      <td>0</td>\n",
       "      <td>0</td>\n",
       "      <td>0</td>\n",
       "      <td>0</td>\n",
       "      <td>0</td>\n",
       "      <td>3</td>\n",
       "      <td>2010</td>\n",
       "      <td>3.0</td>\n",
       "      <td>1.0</td>\n",
       "    </tr>\n",
       "    <tr>\n",
       "      <th>3</th>\n",
       "      <td>60</td>\n",
       "      <td>1.0</td>\n",
       "      <td>78.0</td>\n",
       "      <td>9978</td>\n",
       "      <td>0.0</td>\n",
       "      <td>2.0</td>\n",
       "      <td>2.0</td>\n",
       "      <td>0.0</td>\n",
       "      <td>3.0</td>\n",
       "      <td>2.0</td>\n",
       "      <td>...</td>\n",
       "      <td>36</td>\n",
       "      <td>0</td>\n",
       "      <td>0</td>\n",
       "      <td>0</td>\n",
       "      <td>0</td>\n",
       "      <td>0</td>\n",
       "      <td>6</td>\n",
       "      <td>2010</td>\n",
       "      <td>3.0</td>\n",
       "      <td>1.0</td>\n",
       "    </tr>\n",
       "    <tr>\n",
       "      <th>4</th>\n",
       "      <td>120</td>\n",
       "      <td>1.0</td>\n",
       "      <td>43.0</td>\n",
       "      <td>5005</td>\n",
       "      <td>0.0</td>\n",
       "      <td>2.0</td>\n",
       "      <td>0.0</td>\n",
       "      <td>0.0</td>\n",
       "      <td>3.0</td>\n",
       "      <td>2.0</td>\n",
       "      <td>...</td>\n",
       "      <td>82</td>\n",
       "      <td>0</td>\n",
       "      <td>0</td>\n",
       "      <td>144</td>\n",
       "      <td>0</td>\n",
       "      <td>0</td>\n",
       "      <td>1</td>\n",
       "      <td>2010</td>\n",
       "      <td>3.0</td>\n",
       "      <td>1.0</td>\n",
       "    </tr>\n",
       "    <tr>\n",
       "      <th>...</th>\n",
       "      <td>...</td>\n",
       "      <td>...</td>\n",
       "      <td>...</td>\n",
       "      <td>...</td>\n",
       "      <td>...</td>\n",
       "      <td>...</td>\n",
       "      <td>...</td>\n",
       "      <td>...</td>\n",
       "      <td>...</td>\n",
       "      <td>...</td>\n",
       "      <td>...</td>\n",
       "      <td>...</td>\n",
       "      <td>...</td>\n",
       "      <td>...</td>\n",
       "      <td>...</td>\n",
       "      <td>...</td>\n",
       "      <td>...</td>\n",
       "      <td>...</td>\n",
       "      <td>...</td>\n",
       "      <td>...</td>\n",
       "      <td>...</td>\n",
       "    </tr>\n",
       "    <tr>\n",
       "      <th>1454</th>\n",
       "      <td>160</td>\n",
       "      <td>3.0</td>\n",
       "      <td>21.0</td>\n",
       "      <td>1936</td>\n",
       "      <td>0.0</td>\n",
       "      <td>3.0</td>\n",
       "      <td>2.0</td>\n",
       "      <td>0.0</td>\n",
       "      <td>3.0</td>\n",
       "      <td>2.0</td>\n",
       "      <td>...</td>\n",
       "      <td>0</td>\n",
       "      <td>0</td>\n",
       "      <td>0</td>\n",
       "      <td>0</td>\n",
       "      <td>0</td>\n",
       "      <td>0</td>\n",
       "      <td>6</td>\n",
       "      <td>2006</td>\n",
       "      <td>3.0</td>\n",
       "      <td>1.0</td>\n",
       "    </tr>\n",
       "    <tr>\n",
       "      <th>1455</th>\n",
       "      <td>160</td>\n",
       "      <td>3.0</td>\n",
       "      <td>21.0</td>\n",
       "      <td>1894</td>\n",
       "      <td>0.0</td>\n",
       "      <td>3.0</td>\n",
       "      <td>2.0</td>\n",
       "      <td>0.0</td>\n",
       "      <td>3.0</td>\n",
       "      <td>2.0</td>\n",
       "      <td>...</td>\n",
       "      <td>24</td>\n",
       "      <td>0</td>\n",
       "      <td>0</td>\n",
       "      <td>0</td>\n",
       "      <td>0</td>\n",
       "      <td>0</td>\n",
       "      <td>4</td>\n",
       "      <td>2006</td>\n",
       "      <td>3.0</td>\n",
       "      <td>4.0</td>\n",
       "    </tr>\n",
       "    <tr>\n",
       "      <th>1456</th>\n",
       "      <td>20</td>\n",
       "      <td>1.0</td>\n",
       "      <td>160.0</td>\n",
       "      <td>20000</td>\n",
       "      <td>0.0</td>\n",
       "      <td>3.0</td>\n",
       "      <td>2.0</td>\n",
       "      <td>0.0</td>\n",
       "      <td>3.0</td>\n",
       "      <td>2.0</td>\n",
       "      <td>...</td>\n",
       "      <td>0</td>\n",
       "      <td>0</td>\n",
       "      <td>0</td>\n",
       "      <td>0</td>\n",
       "      <td>0</td>\n",
       "      <td>0</td>\n",
       "      <td>9</td>\n",
       "      <td>2006</td>\n",
       "      <td>3.0</td>\n",
       "      <td>4.0</td>\n",
       "    </tr>\n",
       "    <tr>\n",
       "      <th>1457</th>\n",
       "      <td>85</td>\n",
       "      <td>1.0</td>\n",
       "      <td>62.0</td>\n",
       "      <td>10441</td>\n",
       "      <td>0.0</td>\n",
       "      <td>3.0</td>\n",
       "      <td>2.0</td>\n",
       "      <td>0.0</td>\n",
       "      <td>3.0</td>\n",
       "      <td>2.0</td>\n",
       "      <td>...</td>\n",
       "      <td>32</td>\n",
       "      <td>0</td>\n",
       "      <td>0</td>\n",
       "      <td>0</td>\n",
       "      <td>0</td>\n",
       "      <td>700</td>\n",
       "      <td>7</td>\n",
       "      <td>2006</td>\n",
       "      <td>3.0</td>\n",
       "      <td>1.0</td>\n",
       "    </tr>\n",
       "    <tr>\n",
       "      <th>1458</th>\n",
       "      <td>60</td>\n",
       "      <td>1.0</td>\n",
       "      <td>74.0</td>\n",
       "      <td>9627</td>\n",
       "      <td>0.0</td>\n",
       "      <td>3.0</td>\n",
       "      <td>2.0</td>\n",
       "      <td>0.0</td>\n",
       "      <td>3.0</td>\n",
       "      <td>0.0</td>\n",
       "      <td>...</td>\n",
       "      <td>48</td>\n",
       "      <td>0</td>\n",
       "      <td>0</td>\n",
       "      <td>0</td>\n",
       "      <td>0</td>\n",
       "      <td>0</td>\n",
       "      <td>11</td>\n",
       "      <td>2006</td>\n",
       "      <td>3.0</td>\n",
       "      <td>1.0</td>\n",
       "    </tr>\n",
       "  </tbody>\n",
       "</table>\n",
       "<p>1459 rows × 75 columns</p>\n",
       "</div>"
      ],
      "text/plain": [
       "      MSSubClass  MSZoning  LotFrontage  LotArea  Street  LotShape  \\\n",
       "0             20       2.0         80.0    11622     0.0       3.0   \n",
       "1             20       1.0         81.0    14267     0.0       2.0   \n",
       "2             60       1.0         74.0    13830     0.0       2.0   \n",
       "3             60       1.0         78.0     9978     0.0       2.0   \n",
       "4            120       1.0         43.0     5005     0.0       2.0   \n",
       "...          ...       ...          ...      ...     ...       ...   \n",
       "1454         160       3.0         21.0     1936     0.0       3.0   \n",
       "1455         160       3.0         21.0     1894     0.0       3.0   \n",
       "1456          20       1.0        160.0    20000     0.0       3.0   \n",
       "1457          85       1.0         62.0    10441     0.0       3.0   \n",
       "1458          60       1.0         74.0     9627     0.0       3.0   \n",
       "\n",
       "      LandContour  Utilities  LotConfig  LandSlope  ...  OpenPorchSF  \\\n",
       "0             2.0        0.0        3.0        2.0  ...            0   \n",
       "1             2.0        0.0        4.0        2.0  ...           36   \n",
       "2             2.0        0.0        3.0        2.0  ...           34   \n",
       "3             2.0        0.0        3.0        2.0  ...           36   \n",
       "4             0.0        0.0        3.0        2.0  ...           82   \n",
       "...           ...        ...        ...        ...  ...          ...   \n",
       "1454          2.0        0.0        3.0        2.0  ...            0   \n",
       "1455          2.0        0.0        3.0        2.0  ...           24   \n",
       "1456          2.0        0.0        3.0        2.0  ...            0   \n",
       "1457          2.0        0.0        3.0        2.0  ...           32   \n",
       "1458          2.0        0.0        3.0        0.0  ...           48   \n",
       "\n",
       "      EnclosedPorch  3SsnPorch  ScreenPorch  PoolArea  MiscVal  MoSold  \\\n",
       "0                 0          0          120         0        0       6   \n",
       "1                 0          0            0         0    12500       6   \n",
       "2                 0          0            0         0        0       3   \n",
       "3                 0          0            0         0        0       6   \n",
       "4                 0          0          144         0        0       1   \n",
       "...             ...        ...          ...       ...      ...     ...   \n",
       "1454              0          0            0         0        0       6   \n",
       "1455              0          0            0         0        0       4   \n",
       "1456              0          0            0         0        0       9   \n",
       "1457              0          0            0         0      700       7   \n",
       "1458              0          0            0         0        0      11   \n",
       "\n",
       "      YrSold  SaleType  SaleCondition  \n",
       "0       2010       3.0            1.0  \n",
       "1       2010       3.0            1.0  \n",
       "2       2010       3.0            1.0  \n",
       "3       2010       3.0            1.0  \n",
       "4       2010       3.0            1.0  \n",
       "...      ...       ...            ...  \n",
       "1454    2006       3.0            1.0  \n",
       "1455    2006       3.0            4.0  \n",
       "1456    2006       3.0            4.0  \n",
       "1457    2006       3.0            1.0  \n",
       "1458    2006       3.0            1.0  \n",
       "\n",
       "[1459 rows x 75 columns]"
      ]
     },
     "execution_count": 80,
     "metadata": {},
     "output_type": "execute_result"
    }
   ],
   "source": [
    "df_bn"
   ]
  },
  {
   "cell_type": "code",
   "execution_count": 81,
   "id": "fae161f5-5483-4d3e-b7f3-f71c89c17b9e",
   "metadata": {},
   "outputs": [],
   "source": [
    "Non_NormalFeatures = ['MSSubClass', 'LotFrontage', 'LotArea', 'OverallCond', 'YearBuilt', 'YearRemodAdd', 'MasVnrArea', 'BsmtFinSF1', 'BsmtFinSF2', 'BsmtUnfSF', '2ndFlrSF', 'LowQualFinSF', 'BsmtFullBath', 'BsmtHalfBath', 'FullBath', 'HalfBath', 'BedroomAbvGr', 'KitchenAbvGr', 'Fireplaces', 'GarageYrBlt', 'GarageCars', 'WoodDeckSF', 'OpenPorchSF', 'EnclosedPorch', '3SsnPorch', 'ScreenPorch', 'PoolArea', 'MiscVal', 'MoSold', 'YrSold']"
   ]
  },
  {
   "cell_type": "code",
   "execution_count": 85,
   "id": "cf626299-715f-4da7-9f5f-7acdbe5d08ba",
   "metadata": {},
   "outputs": [],
   "source": [
    "for feature in Non_NormalFeatures:\n",
    "    if df_bn[feature].eq(0).any() == True:\n",
    "        df_bn[feature] = df_bn[feature].replace(0.0,0.00001)"
   ]
  },
  {
   "cell_type": "code",
   "execution_count": 88,
   "id": "285b8b21-be0d-4c66-a035-a38b8783d357",
   "metadata": {},
   "outputs": [],
   "source": [
    "for feature in Non_NormalFeatures:\n",
    "    df_bn[feature] = np.log(df_bn[feature])"
   ]
  },
  {
   "cell_type": "code",
   "execution_count": 89,
   "id": "3006e57d-30bb-4803-9b80-b022db2de55d",
   "metadata": {},
   "outputs": [],
   "source": [
    "df_bn.to_csv(\"test_numerical.csv\",index=False)"
   ]
  },
  {
   "cell_type": "code",
   "execution_count": null,
   "id": "2324a83f-cc08-4447-8fcb-9fc636f24d40",
   "metadata": {},
   "outputs": [],
   "source": []
  }
 ],
 "metadata": {
  "kernelspec": {
   "display_name": "Python 3 (ipykernel)",
   "language": "python",
   "name": "python3"
  },
  "language_info": {
   "codemirror_mode": {
    "name": "ipython",
    "version": 3
   },
   "file_extension": ".py",
   "mimetype": "text/x-python",
   "name": "python",
   "nbconvert_exporter": "python",
   "pygments_lexer": "ipython3",
   "version": "3.9.6"
  }
 },
 "nbformat": 4,
 "nbformat_minor": 5
}
