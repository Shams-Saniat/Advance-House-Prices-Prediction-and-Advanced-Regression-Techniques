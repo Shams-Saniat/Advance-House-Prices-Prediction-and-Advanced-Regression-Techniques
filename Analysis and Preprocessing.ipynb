{
 "cells": [
  {
   "cell_type": "markdown",
   "id": "730aa69f",
   "metadata": {
    "colab_type": "text",
    "id": "view-in-github"
   },
   "source": [
    "<a href=\"https://colab.research.google.com/github/Ixiondbz/House-Prices-Prediction-Advanced-Regression-Techniques-/blob/main/Project.ipynb\" target=\"_parent\"><img src=\"https://colab.research.google.com/assets/colab-badge.svg\" alt=\"Open In Colab\"/></a>"
   ]
  },
  {
   "cell_type": "code",
   "execution_count": 1,
   "id": "6c8bee3f-21e8-433f-b509-aeb270b16953",
   "metadata": {
    "id": "6c8bee3f-21e8-433f-b509-aeb270b16953"
   },
   "outputs": [],
   "source": [
    "import numpy as np\n",
    "import matplotlib.pyplot as plt\n",
    "import pandas as pd\n",
    "import seaborn as sns"
   ]
  },
  {
   "cell_type": "code",
   "execution_count": 2,
   "id": "7cb4608e-3e1a-4732-b548-ed7e239341ac",
   "metadata": {
    "id": "7cb4608e-3e1a-4732-b548-ed7e239341ac"
   },
   "outputs": [],
   "source": [
    "df=pd.read_csv(\"https://raw.githubusercontent.com/Ixiondbz/House-Prices-Prediction-Advanced-Regression-Techniques-/main/train.csv\")"
   ]
  },
  {
   "cell_type": "code",
   "execution_count": 7,
   "id": "ef526d9b-389a-4feb-8241-d8f41c2f4549",
   "metadata": {},
   "outputs": [
    {
     "data": {
      "text/plain": [
       "(1460, 81)"
      ]
     },
     "execution_count": 7,
     "metadata": {},
     "output_type": "execute_result"
    }
   ],
   "source": [
    "df.shape"
   ]
  },
  {
   "cell_type": "markdown",
   "id": "4247819c-5b2e-4471-8aca-098ccc3fc28b",
   "metadata": {},
   "source": [
    "Data Analysis "
   ]
  },
  {
   "cell_type": "code",
   "execution_count": 3,
   "id": "da859580-ebce-4b08-8623-495313bb4747",
   "metadata": {
    "id": "da859580-ebce-4b08-8623-495313bb4747"
   },
   "outputs": [],
   "source": [
    "featuresWithNA=[features for features in df.columns if df[features].isnull().sum()>0]"
   ]
  },
  {
   "cell_type": "code",
   "execution_count": 4,
   "id": "fb273949-068f-41d5-88a7-76c3b56060a5",
   "metadata": {
    "colab": {
     "base_uri": "https://localhost:8080/"
    },
    "id": "fb273949-068f-41d5-88a7-76c3b56060a5",
    "outputId": "f33d3783-c347-45dc-c15c-b57d60912d4a"
   },
   "outputs": [
    {
     "data": {
      "text/plain": [
       "['LotFrontage',\n",
       " 'Alley',\n",
       " 'MasVnrType',\n",
       " 'MasVnrArea',\n",
       " 'BsmtQual',\n",
       " 'BsmtCond',\n",
       " 'BsmtExposure',\n",
       " 'BsmtFinType1',\n",
       " 'BsmtFinType2',\n",
       " 'Electrical',\n",
       " 'FireplaceQu',\n",
       " 'GarageType',\n",
       " 'GarageYrBlt',\n",
       " 'GarageFinish',\n",
       " 'GarageQual',\n",
       " 'GarageCond',\n",
       " 'PoolQC',\n",
       " 'Fence',\n",
       " 'MiscFeature']"
      ]
     },
     "execution_count": 4,
     "metadata": {},
     "output_type": "execute_result"
    }
   ],
   "source": [
    "featuresWithNA"
   ]
  },
  {
   "cell_type": "code",
   "execution_count": 5,
   "id": "d37dc7ee-cd69-411d-ae3d-5d982e483dd1",
   "metadata": {
    "colab": {
     "base_uri": "https://localhost:8080/"
    },
    "id": "d37dc7ee-cd69-411d-ae3d-5d982e483dd1",
    "outputId": "37820c6d-04a5-460d-9507-41a1f22ac5fb"
   },
   "outputs": [
    {
     "data": {
      "text/plain": [
       "19"
      ]
     },
     "execution_count": 5,
     "metadata": {},
     "output_type": "execute_result"
    }
   ],
   "source": [
    "len(featuresWithNA)"
   ]
  },
  {
   "cell_type": "code",
   "execution_count": 8,
   "id": "cd59f2f8-6362-469c-8e75-1934bf9d426c",
   "metadata": {
    "colab": {
     "base_uri": "https://localhost:8080/"
    },
    "id": "cd59f2f8-6362-469c-8e75-1934bf9d426c",
    "outputId": "e61750a8-a093-4739-9fff-86ddb9a93379"
   },
   "outputs": [
    {
     "name": "stdout",
     "output_type": "stream",
     "text": [
      "LotFrontage 0.177\n",
      "Alley 0.938\n",
      "MasVnrType 0.005\n",
      "MasVnrArea 0.005\n",
      "BsmtQual 0.025\n",
      "BsmtCond 0.025\n",
      "BsmtExposure 0.026\n",
      "BsmtFinType1 0.025\n",
      "BsmtFinType2 0.026\n",
      "FireplaceQu 0.473\n",
      "GarageType 0.055\n",
      "GarageYrBlt 0.055\n",
      "GarageFinish 0.055\n",
      "GarageQual 0.055\n",
      "GarageCond 0.055\n",
      "PoolQC 0.995\n",
      "Fence 0.808\n",
      "MiscFeature 0.963\n"
     ]
    }
   ],
   "source": [
    "for feature in featuresWithNA:\n",
    "    print(feature,np.round(df[feature].isnull().mean(),3))"
   ]
  },
  {
   "cell_type": "code",
   "execution_count": 1,
   "id": "6d7c6e74-d929-4cac-bc2c-b1ea393a4264",
   "metadata": {
    "colab": {
     "base_uri": "https://localhost:8080/",
     "height": 1000
    },
    "id": "6d7c6e74-d929-4cac-bc2c-b1ea393a4264",
    "outputId": "d2601bf2-8523-4c01-fbd8-d4ae19d84ed4"
   },
   "outputs": [],
   "source": [
    "#for feature in featuresWithNA:\n",
    "#    data=df.copy()\n",
    "#    data[feature]=np.where(data[feature].isnull(),1,0)\n",
    "#    data.groupby(feature)['SalePrice'].median().plot.bar()\n",
    "#    plt.title(feature)\n",
    "#    plt.show()"
   ]
  },
  {
   "cell_type": "code",
   "execution_count": 10,
   "id": "e9df3c68-abfa-4bac-9894-89a1af22f98b",
   "metadata": {
    "colab": {
     "base_uri": "https://localhost:8080/"
    },
    "id": "e9df3c68-abfa-4bac-9894-89a1af22f98b",
    "outputId": "7751edaf-aaa2-45f3-854d-62888c3f9a77"
   },
   "outputs": [
    {
     "name": "stdout",
     "output_type": "stream",
     "text": [
      "38\n"
     ]
    }
   ],
   "source": [
    "numericalFeatures=[feature for feature in df.columns if df[feature].dtypes!='O'] \n",
    "print(len(numericalFeatures))"
   ]
  },
  {
   "cell_type": "code",
   "execution_count": 11,
   "id": "7507d55e-d246-4d04-8998-86c920234588",
   "metadata": {
    "colab": {
     "base_uri": "https://localhost:8080/"
    },
    "id": "7507d55e-d246-4d04-8998-86c920234588",
    "outputId": "ed019ffe-56f1-4d53-a598-6a3a6b83541c"
   },
   "outputs": [
    {
     "data": {
      "text/plain": [
       "43"
      ]
     },
     "execution_count": 11,
     "metadata": {},
     "output_type": "execute_result"
    }
   ],
   "source": [
    "81-38"
   ]
  },
  {
   "cell_type": "code",
   "execution_count": 13,
   "id": "c2234d52-bce3-484b-8fc7-c36c696a3112",
   "metadata": {
    "colab": {
     "base_uri": "https://localhost:8080/"
    },
    "id": "c2234d52-bce3-484b-8fc7-c36c696a3112",
    "outputId": "f7905b8d-1954-4207-9b48-299cb5e1eab0"
   },
   "outputs": [
    {
     "data": {
      "text/plain": [
       "['Id',\n",
       " 'MSSubClass',\n",
       " 'LotFrontage',\n",
       " 'LotArea',\n",
       " 'OverallQual',\n",
       " 'OverallCond',\n",
       " 'YearBuilt',\n",
       " 'YearRemodAdd',\n",
       " 'MasVnrArea',\n",
       " 'BsmtFinSF1',\n",
       " 'BsmtFinSF2',\n",
       " 'BsmtUnfSF',\n",
       " 'TotalBsmtSF',\n",
       " '1stFlrSF',\n",
       " '2ndFlrSF',\n",
       " 'LowQualFinSF',\n",
       " 'GrLivArea',\n",
       " 'BsmtFullBath',\n",
       " 'BsmtHalfBath',\n",
       " 'FullBath',\n",
       " 'HalfBath',\n",
       " 'BedroomAbvGr',\n",
       " 'KitchenAbvGr',\n",
       " 'TotRmsAbvGrd',\n",
       " 'Fireplaces',\n",
       " 'GarageYrBlt',\n",
       " 'GarageCars',\n",
       " 'GarageArea',\n",
       " 'WoodDeckSF',\n",
       " 'OpenPorchSF',\n",
       " 'EnclosedPorch',\n",
       " '3SsnPorch',\n",
       " 'ScreenPorch',\n",
       " 'PoolArea',\n",
       " 'MiscVal',\n",
       " 'MoSold',\n",
       " 'YrSold',\n",
       " 'SalePrice']"
      ]
     },
     "execution_count": 13,
     "metadata": {},
     "output_type": "execute_result"
    }
   ],
   "source": [
    "numericalFeatures"
   ]
  },
  {
   "cell_type": "code",
   "execution_count": 17,
   "id": "8aa052ee-94e0-43ec-ac4e-4cba622278fa",
   "metadata": {
    "id": "8aa052ee-94e0-43ec-ac4e-4cba622278fa"
   },
   "outputs": [],
   "source": [
    "yearFeatures=[feature for feature in numericalFeatures if 'Yr' in feature or 'Year' in feature]"
   ]
  },
  {
   "cell_type": "code",
   "execution_count": 18,
   "id": "3b07b3e8-d223-4513-ab4c-e85791ea5ec9",
   "metadata": {
    "colab": {
     "base_uri": "https://localhost:8080/"
    },
    "id": "3b07b3e8-d223-4513-ab4c-e85791ea5ec9",
    "outputId": "4102be9a-b515-42df-ce8b-f220072071b5"
   },
   "outputs": [
    {
     "data": {
      "text/plain": [
       "['YearBuilt', 'YearRemodAdd', 'GarageYrBlt', 'YrSold']"
      ]
     },
     "execution_count": 18,
     "metadata": {},
     "output_type": "execute_result"
    }
   ],
   "source": [
    "yearFeatures"
   ]
  },
  {
   "cell_type": "code",
   "execution_count": 20,
   "id": "e05b63f7-dbb0-49fe-95c3-2b7a7c54611b",
   "metadata": {
    "colab": {
     "base_uri": "https://localhost:8080/",
     "height": 296
    },
    "id": "e05b63f7-dbb0-49fe-95c3-2b7a7c54611b",
    "outputId": "cafb9132-2e3e-42a4-83e2-927f01218054"
   },
   "outputs": [
    {
     "data": {
      "text/plain": [
       "<AxesSubplot:xlabel='YrSold'>"
      ]
     },
     "execution_count": 20,
     "metadata": {},
     "output_type": "execute_result"
    },
    {
     "data": {
      "image/png": "[encoded data removed]",
      "text/plain": [
       "<Figure size 432x288 with 1 Axes>"
      ]
     },
     "metadata": {
      "needs_background": "light"
     },
     "output_type": "display_data"
    }
   ],
   "source": [
    "df.groupby('YrSold')['SalePrice'].median().plot()"
   ]
  },
  {
   "cell_type": "code",
   "execution_count": 21,
   "id": "77635bdc-11d9-4188-87ae-af5d768516e9",
   "metadata": {
    "id": "77635bdc-11d9-4188-87ae-af5d768516e9"
   },
   "outputs": [],
   "source": [
    "continuousFeatures=[feature for feature in numericalFeatures if feature not in yearFeatures+['Id']+['SalePrice']]"
   ]
  },
  {
   "cell_type": "code",
   "execution_count": 22,
   "id": "4b5ed3d9-41e9-4d38-9891-fc6a7f09db1d",
   "metadata": {
    "colab": {
     "base_uri": "https://localhost:8080/"
    },
    "id": "4b5ed3d9-41e9-4d38-9891-fc6a7f09db1d",
    "outputId": "189c6376-0561-4614-ba97-1460bd728336"
   },
   "outputs": [
    {
     "data": {
      "text/plain": [
       "32"
      ]
     },
     "execution_count": 22,
     "metadata": {},
     "output_type": "execute_result"
    }
   ],
   "source": [
    "len(continuousFeatures)"
   ]
  },
  {
   "cell_type": "code",
   "execution_count": 23,
   "id": "0792ec27-cbac-4843-9fc9-18cafd26fdd2",
   "metadata": {
    "id": "0792ec27-cbac-4843-9fc9-18cafd26fdd2"
   },
   "outputs": [],
   "source": [
    "discreteFeatures = [feature for feature in numericalFeatures if len(df[feature].unique())<25 and feature not in yearFeatures+['Id']]"
   ]
  },
  {
   "cell_type": "code",
   "execution_count": 24,
   "id": "5cde4aae-4081-40df-af6f-5533887f9c07",
   "metadata": {
    "colab": {
     "base_uri": "https://localhost:8080/"
    },
    "id": "5cde4aae-4081-40df-af6f-5533887f9c07",
    "outputId": "e5cb0adc-f8b0-465f-eea1-6e2430c63810"
   },
   "outputs": [
    {
     "data": {
      "text/plain": [
       "17"
      ]
     },
     "execution_count": 24,
     "metadata": {},
     "output_type": "execute_result"
    }
   ],
   "source": [
    "len(discreteFeatures)"
   ]
  },
  {
   "cell_type": "code",
   "execution_count": 25,
   "id": "f21a5577-a824-4c35-953d-6ca3df2ad03c",
   "metadata": {
    "colab": {
     "base_uri": "https://localhost:8080/",
     "height": 1000
    },
    "collapsed": true,
    "id": "f21a5577-a824-4c35-953d-6ca3df2ad03c",
    "jupyter": {
     "outputs_hidden": true
    },
    "outputId": "5ccb177c-5f12-468b-c1d9-e2ab228d2bba",
    "tags": []
   },
   "outputs": [
    {
     "data": {
      "image/png": "[encoded data removed]",
      "text/plain": [
       "<Figure size 432x288 with 1 Axes>"
      ]
     },
     "metadata": {
      "needs_background": "light"
     },
     "output_type": "display_data"
    },
    {
     "data": {
      "image/png": "[encoded data removed]",
      "text/plain": [
       "<Figure size 432x288 with 1 Axes>"
      ]
     },
     "metadata": {
      "needs_background": "light"
     },
     "output_type": "display_data"
    },
    {
     "data": {
      "image/png": "[encoded data removed]",
      "text/plain": [
       "<Figure size 432x288 with 1 Axes>"
      ]
     },
     "metadata": {
      "needs_background": "light"
     },
     "output_type": "display_data"
    },
    {
     "data": {
      "image/png": "[encoded data removed]",
      "text/plain": [
       "<Figure size 432x288 with 1 Axes>"
      ]
     },
     "metadata": {
      "needs_background": "light"
     },
     "output_type": "display_data"
    },
    {
     "data": {
      "image/png": "[encoded data removed]",
      "text/plain": [
       "<Figure size 432x288 with 1 Axes>"
      ]
     },
     "metadata": {
      "needs_background": "light"
     },
     "output_type": "display_data"
    },
    {
     "data": {
      "image/png": "[encoded data removed]",
      "text/plain": [
       "<Figure size 432x288 with 1 Axes>"
      ]
     },
     "metadata": {
      "needs_background": "light"
     },
     "output_type": "display_data"
    },
    {
     "data": {
      "image/png": "[encoded data removed]",
      "text/plain": [
       "<Figure size 432x288 with 1 Axes>"
      ]
     },
     "metadata": {
      "needs_background": "light"
     },
     "output_type": "display_data"
    },
    {
     "data": {
      "image/png": "[encoded data removed]",
      "text/plain": [
       "<Figure size 432x288 with 1 Axes>"
      ]
     },
     "metadata": {
      "needs_background": "light"
     },
     "output_type": "display_data"
    },
    {
     "data": {
      "image/png": "[encoded data removed]",
      "text/plain": [
       "<Figure size 432x288 with 1 Axes>"
      ]
     },
     "metadata": {
      "needs_background": "light"
     },
     "output_type": "display_data"
    },
    {
     "data": {
      "image/png": "[encoded data removed]",
      "text/plain": [
       "<Figure size 432x288 with 1 Axes>"
      ]
     },
     "metadata": {
      "needs_background": "light"
     },
     "output_type": "display_data"
    },
    {
     "data": {
      "image/png": "[encoded data removed]",
      "text/plain": [
       "<Figure size 432x288 with 1 Axes>"
      ]
     },
     "metadata": {
      "needs_background": "light"
     },
     "output_type": "display_data"
    },
    {
     "data": {
      "image/png": "[encoded data removed]",
      "text/plain": [
       "<Figure size 432x288 with 1 Axes>"
      ]
     },
     "metadata": {
      "needs_background": "light"
     },
     "output_type": "display_data"
    },
    {
     "data": {
      "image/png": "[encoded data removed]",
      "text/plain": [
       "<Figure size 432x288 with 1 Axes>"
      ]
     },
     "metadata": {
      "needs_background": "light"
     },
     "output_type": "display_data"
    },
    {
     "data": {
      "image/png": "[encoded data removed]",
      "text/plain": [
       "<Figure size 432x288 with 1 Axes>"
      ]
     },
     "metadata": {
      "needs_background": "light"
     },
     "output_type": "display_data"
    },
    {
     "data": {
      "image/png": "[encoded data removed]",
      "text/plain": [
       "<Figure size 432x288 with 1 Axes>"
      ]
     },
     "metadata": {
      "needs_background": "light"
     },
     "output_type": "display_data"
    },
    {
     "data": {
      "image/png": "[encoded data removed]",
      "text/plain": [
       "<Figure size 432x288 with 1 Axes>"
      ]
     },
     "metadata": {
      "needs_background": "light"
     },
     "output_type": "display_data"
    },
    {
     "data": {
      "image/png": "[encoded data removed]",
      "text/plain": [
       "<Figure size 432x288 with 1 Axes>"
      ]
     },
     "metadata": {
      "needs_background": "light"
     },
     "output_type": "display_data"
    }
   ],
   "source": [
    "for feature in discreteFeatures:\n",
    "    data=df.copy()\n",
    "    data.groupby(feature)['SalePrice'].median().plot.bar()\n",
    "    plt.xlabel(feature)\n",
    "    plt.ylabel('SalePrice')\n",
    "    plt.title(feature)\n",
    "    plt.show()"
   ]
  },
  {
   "cell_type": "code",
   "execution_count": 26,
   "id": "e32a0769-bbd5-414f-a494-6620e2089a57",
   "metadata": {
    "id": "e32a0769-bbd5-414f-a494-6620e2089a57"
   },
   "outputs": [],
   "source": [
    "continuousFeatures=[feature for feature in numericalFeatures if feature not in discreteFeatures+yearFeatures+['Id']+['SalePrice']]"
   ]
  },
  {
   "cell_type": "code",
   "execution_count": 27,
   "id": "920903d8-988c-4db6-8a87-87196e96c5eb",
   "metadata": {
    "colab": {
     "base_uri": "https://localhost:8080/"
    },
    "id": "920903d8-988c-4db6-8a87-87196e96c5eb",
    "outputId": "6218bc91-00ac-4173-a3c9-0a02e70e7371"
   },
   "outputs": [
    {
     "data": {
      "text/plain": [
       "15"
      ]
     },
     "execution_count": 27,
     "metadata": {},
     "output_type": "execute_result"
    }
   ],
   "source": [
    "len(continuousFeatures)"
   ]
  },
  {
   "cell_type": "code",
   "execution_count": 28,
   "id": "b0250002-5817-4f25-ada3-d6322472fd73",
   "metadata": {
    "colab": {
     "base_uri": "https://localhost:8080/",
     "height": 1000
    },
    "collapsed": true,
    "id": "b0250002-5817-4f25-ada3-d6322472fd73",
    "jupyter": {
     "outputs_hidden": true
    },
    "outputId": "7503ea01-5260-4998-bf18-8e444dda6147",
    "tags": []
   },
   "outputs": [
    {
     "data": {
      "image/png": "[encoded data removed]",
      "text/plain": [
       "<Figure size 432x288 with 1 Axes>"
      ]
     },
     "metadata": {
      "needs_background": "light"
     },
     "output_type": "display_data"
    },
    {
     "data": {
      "image/png": "[encoded data removed]",
      "text/plain": [
       "<Figure size 432x288 with 1 Axes>"
      ]
     },
     "metadata": {
      "needs_background": "light"
     },
     "output_type": "display_data"
    },
    {
     "data": {
      "image/png": "[encoded data removed]",
      "text/plain": [
       "<Figure size 432x288 with 1 Axes>"
      ]
     },
     "metadata": {
      "needs_background": "light"
     },
     "output_type": "display_data"
    },
    {
     "data": {
      "image/png": "[encoded data removed]",
      "text/plain": [
       "<Figure size 432x288 with 1 Axes>"
      ]
     },
     "metadata": {
      "needs_background": "light"
     },
     "output_type": "display_data"
    },
    {
     "data": {
      "image/png": "[encoded data removed]",
      "text/plain": [
       "<Figure size 432x288 with 1 Axes>"
      ]
     },
     "metadata": {
      "needs_background": "light"
     },
     "output_type": "display_data"
    },
    {
     "data": {
      "image/png": "[encoded data removed]",
      "text/plain": [
       "<Figure size 432x288 with 1 Axes>"
      ]
     },
     "metadata": {
      "needs_background": "light"
     },
     "output_type": "display_data"
    },
    {
     "data": {
      "image/png": "[encoded data removed]",
      "text/plain": [
       "<Figure size 432x288 with 1 Axes>"
      ]
     },
     "metadata": {
      "needs_background": "light"
     },
     "output_type": "display_data"
    },
    {
     "data": {
      "image/png": "[encoded data removed]",
      "text/plain": [
       "<Figure size 432x288 with 1 Axes>"
      ]
     },
     "metadata": {
      "needs_background": "light"
     },
     "output_type": "display_data"
    },
    {
     "data": {
      "image/png": "[encoded data removed]",
      "text/plain": [
       "<Figure size 432x288 with 1 Axes>"
      ]
     },
     "metadata": {
      "needs_background": "light"
     },
     "output_type": "display_data"
    },
    {
     "data": {
      "image/png": "[encoded data removed]",
      "text/plain": [
       "<Figure size 432x288 with 1 Axes>"
      ]
     },
     "metadata": {
      "needs_background": "light"
     },
     "output_type": "display_data"
    },
    {
     "data": {
      "image/png": "[encoded data removed]",
      "text/plain": [
       "<Figure size 432x288 with 1 Axes>"
      ]
     },
     "metadata": {
      "needs_background": "light"
     },
     "output_type": "display_data"
    },
    {
     "data": {
      "image/png": "[encoded data removed]",
      "text/plain": [
       "<Figure size 432x288 with 1 Axes>"
      ]
     },
     "metadata": {
      "needs_background": "light"
     },
     "output_type": "display_data"
    },
    {
     "data": {
      "image/png": "[encoded data removed]",
      "text/plain": [
       "<Figure size 432x288 with 1 Axes>"
      ]
     },
     "metadata": {
      "needs_background": "light"
     },
     "output_type": "display_data"
    },
    {
     "data": {
      "image/png": "[encoded data removed]",
      "text/plain": [
       "<Figure size 432x288 with 1 Axes>"
      ]
     },
     "metadata": {
      "needs_background": "light"
     },
     "output_type": "display_data"
    },
    {
     "data": {
      "image/png": "[encoded data removed]",
      "text/plain": [
       "<Figure size 432x288 with 1 Axes>"
      ]
     },
     "metadata": {
      "needs_background": "light"
     },
     "output_type": "display_data"
    }
   ],
   "source": [
    "for feature in continuousFeatures:\n",
    "    data=df.copy()\n",
    "    data[feature].hist(bins=15)\n",
    "    plt.xlabel(feature)\n",
    "    plt.ylabel(\"count\")\n",
    "    plt.title(feature)\n",
    "    plt.show()"
   ]
  },
  {
   "cell_type": "code",
   "execution_count": 29,
   "id": "b655ed9c-0350-41ae-8d89-76b1b8763c35",
   "metadata": {
    "colab": {
     "base_uri": "https://localhost:8080/"
    },
    "id": "b655ed9c-0350-41ae-8d89-76b1b8763c35",
    "outputId": "0be04157-4213-4dde-a48a-4a067172b6ae"
   },
   "outputs": [
    {
     "data": {
      "text/plain": [
       "(1460, 81)"
      ]
     },
     "execution_count": 29,
     "metadata": {},
     "output_type": "execute_result"
    }
   ],
   "source": [
    "df.shape"
   ]
  },
  {
   "cell_type": "code",
   "execution_count": 30,
   "id": "8a5837e6-38da-48cd-a906-09c8bcf46b3c",
   "metadata": {
    "colab": {
     "base_uri": "https://localhost:8080/"
    },
    "id": "8a5837e6-38da-48cd-a906-09c8bcf46b3c",
    "outputId": "3fcf1033-dfdf-4203-b92a-c8ed08932313"
   },
   "outputs": [
    {
     "data": {
      "text/plain": [
       "dtype('int64')"
      ]
     },
     "execution_count": 30,
     "metadata": {},
     "output_type": "execute_result"
    }
   ],
   "source": [
    "df['1stFlrSF'].dtype"
   ]
  },
  {
   "cell_type": "code",
   "execution_count": 32,
   "id": "aabd3db1-5033-4e05-a71d-da7f321c5ad9",
   "metadata": {
    "colab": {
     "base_uri": "https://localhost:8080/"
    },
    "id": "aabd3db1-5033-4e05-a71d-da7f321c5ad9",
    "outputId": "19e3e76f-721c-40c4-f3af-1dcf4c898ca3"
   },
   "outputs": [
    {
     "data": {
      "text/plain": [
       "Id                 int64\n",
       "MSSubClass         int64\n",
       "MSZoning          object\n",
       "LotFrontage      float64\n",
       "LotArea            int64\n",
       "                  ...   \n",
       "MoSold             int64\n",
       "YrSold             int64\n",
       "SaleType          object\n",
       "SaleCondition     object\n",
       "SalePrice          int64\n",
       "Length: 81, dtype: object"
      ]
     },
     "execution_count": 32,
     "metadata": {},
     "output_type": "execute_result"
    }
   ],
   "source": [
    "df.head().dtypes"
   ]
  },
  {
   "cell_type": "code",
   "execution_count": 33,
   "id": "3d9f8f0d-b6d4-4b80-a419-fb78f765fe4c",
   "metadata": {
    "colab": {
     "base_uri": "https://localhost:8080/"
    },
    "collapsed": true,
    "id": "3d9f8f0d-b6d4-4b80-a419-fb78f765fe4c",
    "jupyter": {
     "outputs_hidden": true
    },
    "outputId": "b3530dc0-3419-41ff-f747-aa8061aac00e",
    "tags": []
   },
   "outputs": [
    {
     "name": "stdout",
     "output_type": "stream",
     "text": [
      "Id int64\n",
      "MSSubClass int64\n",
      "MSZoning object\n",
      "LotFrontage float64\n",
      "LotArea int64\n",
      "Street object\n",
      "Alley object\n",
      "LotShape object\n",
      "LandContour object\n",
      "Utilities object\n",
      "LotConfig object\n",
      "LandSlope object\n",
      "Neighborhood object\n",
      "Condition1 object\n",
      "Condition2 object\n",
      "BldgType object\n",
      "HouseStyle object\n",
      "OverallQual int64\n",
      "OverallCond int64\n",
      "YearBuilt int64\n",
      "YearRemodAdd int64\n",
      "RoofStyle object\n",
      "RoofMatl object\n",
      "Exterior1st object\n",
      "Exterior2nd object\n",
      "MasVnrType object\n",
      "MasVnrArea float64\n",
      "ExterQual object\n",
      "ExterCond object\n",
      "Foundation object\n",
      "BsmtQual object\n",
      "BsmtCond object\n",
      "BsmtExposure object\n",
      "BsmtFinType1 object\n",
      "BsmtFinSF1 int64\n",
      "BsmtFinType2 object\n",
      "BsmtFinSF2 int64\n",
      "BsmtUnfSF int64\n",
      "TotalBsmtSF int64\n",
      "Heating object\n",
      "HeatingQC object\n",
      "CentralAir object\n",
      "Electrical object\n",
      "1stFlrSF int64\n",
      "2ndFlrSF int64\n",
      "LowQualFinSF int64\n",
      "GrLivArea int64\n",
      "BsmtFullBath int64\n",
      "BsmtHalfBath int64\n",
      "FullBath int64\n",
      "HalfBath int64\n",
      "BedroomAbvGr int64\n",
      "KitchenAbvGr int64\n",
      "KitchenQual object\n",
      "TotRmsAbvGrd int64\n",
      "Functional object\n",
      "Fireplaces int64\n",
      "FireplaceQu object\n",
      "GarageType object\n",
      "GarageYrBlt float64\n",
      "GarageFinish object\n",
      "GarageCars int64\n",
      "GarageArea int64\n",
      "GarageQual object\n",
      "GarageCond object\n",
      "PavedDrive object\n",
      "WoodDeckSF int64\n",
      "OpenPorchSF int64\n",
      "EnclosedPorch int64\n",
      "3SsnPorch int64\n",
      "ScreenPorch int64\n",
      "PoolArea int64\n",
      "PoolQC object\n",
      "Fence object\n",
      "MiscFeature object\n",
      "MiscVal int64\n",
      "MoSold int64\n",
      "YrSold int64\n",
      "SaleType object\n",
      "SaleCondition object\n",
      "SalePrice int64\n"
     ]
    }
   ],
   "source": [
    "for feature in df.columns:\n",
    "    print(feature, df[feature].dtype)"
   ]
  },
  {
   "cell_type": "code",
   "execution_count": 36,
   "id": "9fcc6279-12da-4538-8d11-e7a5332d9f2f",
   "metadata": {
    "colab": {
     "base_uri": "https://localhost:8080/"
    },
    "collapsed": true,
    "id": "9fcc6279-12da-4538-8d11-e7a5332d9f2f",
    "jupyter": {
     "outputs_hidden": true
    },
    "outputId": "b7e678ff-3a00-4943-e9aa-33699dcd3b5a",
    "tags": []
   },
   "outputs": [
    {
     "name": "stdout",
     "output_type": "stream",
     "text": [
      "MSZoning\n",
      "Street\n",
      "Alley\n",
      "LotShape\n",
      "LandContour\n",
      "Utilities\n",
      "LotConfig\n",
      "LandSlope\n",
      "Neighborhood\n",
      "Condition1\n",
      "Condition2\n",
      "BldgType\n",
      "HouseStyle\n",
      "RoofStyle\n",
      "RoofMatl\n",
      "Exterior1st\n",
      "Exterior2nd\n",
      "MasVnrType\n",
      "ExterQual\n",
      "ExterCond\n",
      "Foundation\n",
      "BsmtQual\n",
      "BsmtCond\n",
      "BsmtExposure\n",
      "BsmtFinType1\n",
      "BsmtFinType2\n",
      "Heating\n",
      "HeatingQC\n",
      "CentralAir\n",
      "Electrical\n",
      "KitchenQual\n",
      "Functional\n",
      "FireplaceQu\n",
      "GarageType\n",
      "GarageFinish\n",
      "GarageQual\n",
      "GarageCond\n",
      "PavedDrive\n",
      "PoolQC\n",
      "Fence\n",
      "MiscFeature\n",
      "SaleType\n",
      "SaleCondition\n"
     ]
    }
   ],
   "source": [
    "for feature in df.columns:\n",
    "    if df[feature].dtype=='O':\n",
    "        print(feature)"
   ]
  },
  {
   "cell_type": "code",
   "execution_count": 37,
   "id": "1f670829-02ba-4bf0-8908-9143ed8bf45f",
   "metadata": {
    "colab": {
     "base_uri": "https://localhost:8080/"
    },
    "collapsed": true,
    "id": "1f670829-02ba-4bf0-8908-9143ed8bf45f",
    "jupyter": {
     "outputs_hidden": true
    },
    "outputId": "07f68c44-b316-4968-c17e-962b7f3e0def",
    "tags": []
   },
   "outputs": [
    {
     "name": "stdout",
     "output_type": "stream",
     "text": [
      "Id int64\n",
      "MSSubClass int64\n",
      "LotFrontage float64\n",
      "LotArea int64\n",
      "OverallQual int64\n",
      "OverallCond int64\n",
      "YearBuilt int64\n",
      "YearRemodAdd int64\n",
      "MasVnrArea float64\n",
      "BsmtFinSF1 int64\n",
      "BsmtFinSF2 int64\n",
      "BsmtUnfSF int64\n",
      "TotalBsmtSF int64\n",
      "1stFlrSF int64\n",
      "2ndFlrSF int64\n",
      "LowQualFinSF int64\n",
      "GrLivArea int64\n",
      "BsmtFullBath int64\n",
      "BsmtHalfBath int64\n",
      "FullBath int64\n",
      "HalfBath int64\n",
      "BedroomAbvGr int64\n",
      "KitchenAbvGr int64\n",
      "TotRmsAbvGrd int64\n",
      "Fireplaces int64\n",
      "GarageYrBlt float64\n",
      "GarageCars int64\n",
      "GarageArea int64\n",
      "WoodDeckSF int64\n",
      "OpenPorchSF int64\n",
      "EnclosedPorch int64\n",
      "3SsnPorch int64\n",
      "ScreenPorch int64\n",
      "PoolArea int64\n",
      "MiscVal int64\n",
      "MoSold int64\n",
      "YrSold int64\n",
      "SalePrice int64\n"
     ]
    }
   ],
   "source": [
    "for feature in df.columns:\n",
    "    if df[feature].dtype!='O':\n",
    "        print(feature, df[feature].dtype)"
   ]
  },
  {
   "cell_type": "code",
   "execution_count": 38,
   "id": "586160c1-3f7f-4b52-a3fb-3bf781fb2947",
   "metadata": {
    "colab": {
     "base_uri": "https://localhost:8080/"
    },
    "id": "586160c1-3f7f-4b52-a3fb-3bf781fb2947",
    "outputId": "cbefe474-c55e-4f73-99ac-90ba7421f31a"
   },
   "outputs": [
    {
     "name": "stdout",
     "output_type": "stream",
     "text": [
      "Alley 1369\n",
      "MasVnrType 8\n",
      "BsmtQual 37\n",
      "BsmtCond 37\n",
      "BsmtExposure 38\n",
      "BsmtFinType1 37\n",
      "BsmtFinType2 38\n",
      "Electrical 1\n",
      "FireplaceQu 690\n",
      "GarageType 81\n",
      "GarageFinish 81\n",
      "GarageQual 81\n",
      "GarageCond 81\n",
      "PoolQC 1453\n",
      "Fence 1179\n",
      "MiscFeature 1406\n"
     ]
    }
   ],
   "source": [
    "for feature in df.columns:\n",
    "    if df[feature].dtype=='O' and df[feature].isnull().sum()>0:\n",
    "        print(feature,df[feature].isnull().sum())"
   ]
  },
  {
   "cell_type": "code",
   "execution_count": 39,
   "id": "737fbe7a-fd68-48b2-bf78-f1164916bcbe",
   "metadata": {
    "colab": {
     "base_uri": "https://localhost:8080/"
    },
    "id": "737fbe7a-fd68-48b2-bf78-f1164916bcbe",
    "outputId": "94de8b12-6a85-493c-b2d6-c43ee7cdd820"
   },
   "outputs": [
    {
     "name": "stdout",
     "output_type": "stream",
     "text": [
      "LotFrontage 259\n",
      "MasVnrArea 8\n",
      "GarageYrBlt 81\n"
     ]
    }
   ],
   "source": [
    "for feature in df.columns:\n",
    "    if df[feature].dtype!='O' and df[feature].isnull().sum()>0:\n",
    "        print(feature,df[feature].isnull().sum())"
   ]
  },
  {
   "cell_type": "markdown",
   "id": "a5cc1c21-9814-40ef-a2af-b9ed434184ff",
   "metadata": {
    "id": "a5cc1c21-9814-40ef-a2af-b9ed434184ff"
   },
   "source": [
    "### Filling NA values of Catergorical Features"
   ]
  },
  {
   "cell_type": "code",
   "execution_count": 40,
   "id": "49ca8927-f576-4a96-9bb7-8fc17631dcf3",
   "metadata": {
    "id": "49ca8927-f576-4a96-9bb7-8fc17631dcf3"
   },
   "outputs": [],
   "source": [
    "df.drop(['Alley'],axis=1,inplace=True)\n",
    "df.drop(['MiscFeature'],axis=1,inplace=True)\n",
    "df.drop(['PoolQC'],axis=1,inplace=True)\n",
    "df.drop(['Fence'],axis=1,inplace=True)"
   ]
  },
  {
   "cell_type": "code",
   "execution_count": 43,
   "id": "e0a1c46a-9bf9-45cc-a2d5-6818d44d2aa9",
   "metadata": {
    "colab": {
     "base_uri": "https://localhost:8080/"
    },
    "id": "e0a1c46a-9bf9-45cc-a2d5-6818d44d2aa9",
    "outputId": "15fa2b3f-d157-4481-f2a8-f9a041f9fad2"
   },
   "outputs": [
    {
     "data": {
      "text/plain": [
       "None       864\n",
       "BrkFace    445\n",
       "Stone      128\n",
       "BrkCmn      15\n",
       "Name: MasVnrType, dtype: int64"
      ]
     },
     "execution_count": 43,
     "metadata": {},
     "output_type": "execute_result"
    }
   ],
   "source": [
    "df['MasVnrType'].value_counts()"
   ]
  },
  {
   "cell_type": "code",
   "execution_count": 44,
   "id": "33dfdeb8-18c7-4f2b-b0c8-44d8a8d75aa7",
   "metadata": {
    "colab": {
     "base_uri": "https://localhost:8080/"
    },
    "id": "33dfdeb8-18c7-4f2b-b0c8-44d8a8d75aa7",
    "outputId": "b7350530-a260-482c-e14e-66dc5047f183"
   },
   "outputs": [
    {
     "data": {
      "text/plain": [
       "8"
      ]
     },
     "execution_count": 44,
     "metadata": {},
     "output_type": "execute_result"
    }
   ],
   "source": [
    "df['MasVnrType'].isna().sum()"
   ]
  },
  {
   "cell_type": "code",
   "execution_count": 47,
   "id": "b6123c6b-b7c7-46a7-840a-09b3b4459065",
   "metadata": {
    "id": "b6123c6b-b7c7-46a7-840a-09b3b4459065"
   },
   "outputs": [],
   "source": [
    "df['MasVnrType'] = df['MasVnrType'].fillna(df['MasVnrType'].mode()[0])"
   ]
  },
  {
   "cell_type": "code",
   "execution_count": 48,
   "id": "537c9278-bc26-4c81-b724-f37873b7e1c9",
   "metadata": {
    "colab": {
     "base_uri": "https://localhost:8080/"
    },
    "id": "537c9278-bc26-4c81-b724-f37873b7e1c9",
    "outputId": "c50b9830-33e3-4d23-9424-a6340649fbf3"
   },
   "outputs": [
    {
     "name": "stdout",
     "output_type": "stream",
     "text": [
      "BsmtQual 37\n",
      "BsmtCond 37\n",
      "BsmtExposure 38\n",
      "BsmtFinType1 37\n",
      "BsmtFinType2 38\n",
      "Electrical 1\n",
      "FireplaceQu 690\n",
      "GarageType 81\n",
      "GarageFinish 81\n",
      "GarageQual 81\n",
      "GarageCond 81\n"
     ]
    }
   ],
   "source": [
    "for feature in df.columns:\n",
    "    if df[feature].dtype=='O' and df[feature].isnull().sum()>0:\n",
    "        print(feature,df[feature].isnull().sum())"
   ]
  },
  {
   "cell_type": "code",
   "execution_count": 49,
   "id": "df847ef7-955e-426a-bb4d-05a6b4c03281",
   "metadata": {
    "id": "df847ef7-955e-426a-bb4d-05a6b4c03281"
   },
   "outputs": [],
   "source": [
    "df['BsmtQual'] = df['BsmtQual'].fillna(df['BsmtQual'].mode()[0])"
   ]
  },
  {
   "cell_type": "code",
   "execution_count": 50,
   "id": "6801279a-bf75-4abe-acfc-207a0767f6fc",
   "metadata": {
    "id": "6801279a-bf75-4abe-acfc-207a0767f6fc"
   },
   "outputs": [],
   "source": [
    "for feature in df.columns:\n",
    "    if df[feature].dtype=='O' and df[feature].isnull().sum()>0:\n",
    "        df[feature] = df[feature].fillna(df[feature].mode()[0])"
   ]
  },
  {
   "cell_type": "code",
   "execution_count": 51,
   "id": "972ad3b5-c1b1-4548-8650-5306a9a3348d",
   "metadata": {
    "id": "972ad3b5-c1b1-4548-8650-5306a9a3348d"
   },
   "outputs": [],
   "source": [
    "for feature in df.columns:\n",
    "    if df[feature].dtype=='O' and df[feature].isnull().sum()>0:\n",
    "        print(feature,df[feature].isnull().sum())"
   ]
  },
  {
   "cell_type": "markdown",
   "id": "0226d397-6819-41ee-997b-a9efe626b2f9",
   "metadata": {
    "id": "0226d397-6819-41ee-997b-a9efe626b2f9"
   },
   "source": [
    "### Filling missing values of Numerical Features "
   ]
  },
  {
   "cell_type": "code",
   "execution_count": 52,
   "id": "0b084932-b5de-450f-a1ad-7c8c4695dea7",
   "metadata": {
    "colab": {
     "base_uri": "https://localhost:8080/"
    },
    "id": "0b084932-b5de-450f-a1ad-7c8c4695dea7",
    "outputId": "5a5a5486-4ccb-4403-8ed8-a29ef3e9f097"
   },
   "outputs": [
    {
     "name": "stdout",
     "output_type": "stream",
     "text": [
      "LotFrontage 259\n",
      "MasVnrArea 8\n",
      "GarageYrBlt 81\n"
     ]
    }
   ],
   "source": [
    "for feature in df.columns:\n",
    "    if df[feature].dtype!='O' and df[feature].isnull().sum()>0:\n",
    "        print(feature,df[feature].isnull().sum())"
   ]
  },
  {
   "cell_type": "code",
   "execution_count": 53,
   "id": "d41c62c8-ce43-489f-b0a1-739ad501805f",
   "metadata": {
    "id": "d41c62c8-ce43-489f-b0a1-739ad501805f"
   },
   "outputs": [],
   "source": [
    "for feature in df.columns:\n",
    "    if df[feature].dtype!='O' and df[feature].isnull().sum()>0:\n",
    "        df[feature] = df[feature].fillna(df[feature].mean())"
   ]
  },
  {
   "cell_type": "code",
   "execution_count": 54,
   "id": "7e5a4d94-35c5-49b5-a7d7-713ad4d4d6ec",
   "metadata": {
    "id": "7e5a4d94-35c5-49b5-a7d7-713ad4d4d6ec"
   },
   "outputs": [],
   "source": [
    "for feature in df.columns:\n",
    "    if df[feature].dtype!='O' and df[feature].isnull().sum()>0:\n",
    "        print(feature,df[feature].isnull().sum())"
   ]
  },
  {
   "cell_type": "code",
   "execution_count": 55,
   "id": "e59ff4c4-af56-4cfa-b0be-41302204b2ea",
   "metadata": {
    "colab": {
     "base_uri": "https://localhost:8080/",
     "height": 0
    },
    "id": "e59ff4c4-af56-4cfa-b0be-41302204b2ea",
    "outputId": "cd5403ce-652d-4b8a-cd3e-ac4af59d6673"
   },
   "outputs": [
    {
     "data": {
      "text/plain": [
       "<AxesSubplot:>"
      ]
     },
     "execution_count": 55,
     "metadata": {},
     "output_type": "execute_result"
    },
    {
     "data": {
      "image/png": "[encoded data removed]",
      "text/plain": [
       "<Figure size 432x288 with 1 Axes>"
      ]
     },
     "metadata": {
      "needs_background": "light"
     },
     "output_type": "display_data"
    }
   ],
   "source": [
    "sns.heatmap(df.isnull(),yticklabels=False,cbar=False)"
   ]
  },
  {
   "cell_type": "markdown",
   "id": "128da0c1-9182-41bd-b04b-99b63b635dfc",
   "metadata": {
    "id": "128da0c1-9182-41bd-b04b-99b63b635dfc"
   },
   "source": [
    "### Id values don't contribute to prediction "
   ]
  },
  {
   "cell_type": "code",
   "execution_count": 56,
   "id": "934eb105-d268-496f-94b3-31ec0550aa73",
   "metadata": {
    "id": "934eb105-d268-496f-94b3-31ec0550aa73"
   },
   "outputs": [],
   "source": [
    "df.drop(['Id'],axis=1,inplace=True)"
   ]
  },
  {
   "cell_type": "markdown",
   "id": "0eb94f4a-6007-40f6-ac4a-66371407ab3d",
   "metadata": {
    "id": "0eb94f4a-6007-40f6-ac4a-66371407ab3d"
   },
   "source": [
    "### Converting Categorical Variables to Numerical Variables"
   ]
  },
  {
   "cell_type": "code",
   "execution_count": 57,
   "id": "ed59a239-b117-4ab1-843f-800e6dcf0d56",
   "metadata": {
    "id": "ed59a239-b117-4ab1-843f-800e6dcf0d56"
   },
   "outputs": [],
   "source": [
    "Categorical = [feature for feature in df.columns if df[feature].dtype=='O']\n",
    "len(Categorical)"
   ]
  },
  {
   "cell_type": "code",
   "execution_count": 59,
   "id": "109f892d-b5bd-42b3-81f6-f157aff561a9",
   "metadata": {
    "id": "109f892d-b5bd-42b3-81f6-f157aff561a9"
   },
   "outputs": [],
   "source": [
    "Numerical = [feature for feature in df.columns if df[feature].dtype!='O']\n",
    "len(Numerical)"
   ]
  },
  {
   "cell_type": "code",
   "execution_count": 146,
   "id": "1W0UEbQn-CMj",
   "metadata": {
    "colab": {
     "base_uri": "https://localhost:8080/",
     "height": 1000
    },
    "id": "1W0UEbQn-CMj",
    "outputId": "dfb78f6f-d4b8-4abc-ebc3-89d9165f20bd"
   },
   "outputs": [],
   "source": [
    "#for feature in Categorical:\n",
    "#  data=df.copy()\n",
    "#  data.groupby(feature)['SalePrice'].median().plot.bar()\n",
    "#  plt.xlabel(feature)\n",
    "#  plt.ylabel('SalePrice')\n",
    "#  plt.title(feature)\n",
    "#  plt.show()"
   ]
  },
  {
   "cell_type": "code",
   "execution_count": 63,
   "id": "Fa_2d2EAPwFU",
   "metadata": {
    "id": "Fa_2d2EAPwFU"
   },
   "outputs": [],
   "source": [
    "from sklearn.preprocessing import OrdinalEncoder\n",
    "df_bn = df.copy()"
   ]
  },
  {
   "cell_type": "code",
   "execution_count": 64,
   "id": "LmPnYLPoSHLd",
   "metadata": {
    "colab": {
     "base_uri": "https://localhost:8080/"
    },
    "id": "LmPnYLPoSHLd",
    "outputId": "13e307bf-6a80-4a3b-8dea-33ca524dbe35"
   },
   "outputs": [
    {
     "data": {
      "text/plain": [
       "array(['RL', 'RM', 'C (all)', 'FV', 'RH'], dtype=object)"
      ]
     },
     "execution_count": 64,
     "metadata": {},
     "output_type": "execute_result"
    }
   ],
   "source": [
    "df_bn['MSZoning'].unique()"
   ]
  },
  {
   "cell_type": "code",
   "execution_count": 65,
   "id": "jGqCv3Dxamy7",
   "metadata": {
    "id": "jGqCv3Dxamy7"
   },
   "outputs": [],
   "source": [
    "zoning_order = ['FV', 'RL', 'RH', 'RM', 'C (all)']\n",
    "enco = OrdinalEncoder (categories=[zoning_order])\n",
    "enco.fit(df_bn[['MSZoning']])\n",
    "final=pd.DataFrame(enco.transform(df_bn[['MSZoning']]))\n",
    "df_bn['MSZoning']=final"
   ]
  },
  {
   "cell_type": "code",
   "execution_count": 68,
   "id": "9HSFPSJ9G_tj",
   "metadata": {
    "colab": {
     "base_uri": "https://localhost:8080/"
    },
    "id": "9HSFPSJ9G_tj",
    "outputId": "dd5f0a96-664b-421c-9c29-4d7f2773160c"
   },
   "outputs": [
    {
     "data": {
      "text/plain": [
       "array(['Pave', 'Grvl'], dtype=object)"
      ]
     },
     "execution_count": 68,
     "metadata": {},
     "output_type": "execute_result"
    }
   ],
   "source": [
    "df_bn['Street'].unique()"
   ]
  },
  {
   "cell_type": "code",
   "execution_count": 69,
   "id": "K2JF2nzOHFwI",
   "metadata": {
    "id": "K2JF2nzOHFwI"
   },
   "outputs": [
    {
     "data": {
      "text/plain": [
       "array([0., 1.])"
      ]
     },
     "execution_count": 69,
     "metadata": {},
     "output_type": "execute_result"
    }
   ],
   "source": [
    "street_order = ['Pave', 'Grvl']\n",
    "enco = OrdinalEncoder (categories=[street_order])\n",
    "enco.fit(df_bn[['Street']])\n",
    "final=pd.DataFrame(enco.transform(df_bn[['Street']]))\n",
    "df_bn['Street']=final\n",
    "df_bn['Street'].unique()"
   ]
  },
  {
   "cell_type": "code",
   "execution_count": 70,
   "id": "56Q2G1PiebsJ",
   "metadata": {
    "colab": {
     "base_uri": "https://localhost:8080/"
    },
    "id": "56Q2G1PiebsJ",
    "outputId": "1ab20cdc-876f-402f-a995-ed6644b964e9"
   },
   "outputs": [],
   "source": [
    "df_bn['LotShape'].unique()\n",
    "lshape_order = ['IR2', 'IR3','IR1','Reg']\n",
    "enco = OrdinalEncoder (categories=[lshape_order])\n",
    "enco.fit(df_bn[['LotShape']])\n",
    "final=pd.DataFrame(enco.transform(df_bn[['LotShape']]))\n",
    "df_bn['LotShape']=final"
   ]
  },
  {
   "cell_type": "code",
   "execution_count": 71,
   "id": "PZne0QqOf0jj",
   "metadata": {
    "colab": {
     "base_uri": "https://localhost:8080/"
    },
    "id": "PZne0QqOf0jj",
    "outputId": "b6903588-0f3d-4096-924c-2f9f94f79ac0"
   },
   "outputs": [
    {
     "data": {
      "text/plain": [
       "array(['Lvl', 'Bnk', 'Low', 'HLS'], dtype=object)"
      ]
     },
     "execution_count": 71,
     "metadata": {},
     "output_type": "execute_result"
    }
   ],
   "source": [
    "df_bn['LandContour'].unique()"
   ]
  },
  {
   "cell_type": "code",
   "execution_count": 72,
   "id": "eIkRSXGjgOF8",
   "metadata": {
    "id": "eIkRSXGjgOF8"
   },
   "outputs": [],
   "source": [
    "lcont_order = ['HLS', 'Low','Lvl','Bnk']\n",
    "enco = OrdinalEncoder (categories=[lcont_order])\n",
    "enco.fit(df_bn[['LandContour']])\n",
    "final=pd.DataFrame(enco.transform(df_bn[['LandContour']]))\n",
    "df_bn['LandContour']=final"
   ]
  },
  {
   "cell_type": "code",
   "execution_count": 73,
   "id": "Nz9oMwkDhX-f",
   "metadata": {
    "colab": {
     "base_uri": "https://localhost:8080/"
    },
    "id": "Nz9oMwkDhX-f",
    "outputId": "5577a810-2a83-4ef1-bcdb-75abf05fb993"
   },
   "outputs": [
    {
     "data": {
      "text/plain": [
       "array(['AllPub', 'NoSeWa'], dtype=object)"
      ]
     },
     "execution_count": 73,
     "metadata": {},
     "output_type": "execute_result"
    }
   ],
   "source": [
    "df_bn['Utilities'].unique()"
   ]
  },
  {
   "cell_type": "code",
   "execution_count": 74,
   "id": "Xo1qs13Nh5Pc",
   "metadata": {
    "id": "Xo1qs13Nh5Pc"
   },
   "outputs": [],
   "source": [
    "util_order = ['AllPub', 'NoSeWa']\n",
    "enco = OrdinalEncoder (categories=[util_order])\n",
    "enco.fit(df_bn[['Utilities']])\n",
    "final=pd.DataFrame(enco.transform(df_bn[['Utilities']]))\n",
    "df_bn['Utilities']=final"
   ]
  },
  {
   "cell_type": "code",
   "execution_count": 75,
   "id": "0eae8492-c77c-4c78-ae38-6997e4b0c563",
   "metadata": {},
   "outputs": [
    {
     "data": {
      "text/plain": [
       "array(['Inside', 'FR2', 'Corner', 'CulDSac', 'FR3'], dtype=object)"
      ]
     },
     "execution_count": 75,
     "metadata": {},
     "output_type": "execute_result"
    }
   ],
   "source": [
    "df_bn['LotConfig'].unique()"
   ]
  },
  {
   "cell_type": "code",
   "execution_count": 76,
   "id": "6ZwF7t7LjQRL",
   "metadata": {
    "id": "6ZwF7t7LjQRL",
    "tags": []
   },
   "outputs": [],
   "source": [
    "lcon_order = ['CulDSac', 'FR3', 'FR2', 'Inside', 'Corner']\n",
    "enco = OrdinalEncoder (categories=[lcon_order])\n",
    "enco.fit(df_bn[['LotConfig']])\n",
    "final=pd.DataFrame(enco.transform(df_bn[['LotConfig']]))\n",
    "df_bn['LotConfig']=final"
   ]
  },
  {
   "cell_type": "code",
   "execution_count": 77,
   "id": "ALUq_SEWkI_p",
   "metadata": {
    "colab": {
     "base_uri": "https://localhost:8080/"
    },
    "id": "ALUq_SEWkI_p",
    "outputId": "4bb82cfd-7a28-42d3-9a74-29586065c5c0"
   },
   "outputs": [
    {
     "data": {
      "text/plain": [
       "array(['Gtl', 'Mod', 'Sev'], dtype=object)"
      ]
     },
     "execution_count": 77,
     "metadata": {},
     "output_type": "execute_result"
    }
   ],
   "source": [
    "df_bn['LandSlope'].unique()"
   ]
  },
  {
   "cell_type": "code",
   "execution_count": 78,
   "id": "nGRBAwZlqCC6",
   "metadata": {
    "id": "nGRBAwZlqCC6"
   },
   "outputs": [],
   "source": [
    "lslope_order = ['Mod', 'Sev', 'Gtl']\n",
    "enco = OrdinalEncoder (categories=[lslope_order])\n",
    "enco.fit(df_bn[['LandSlope']])\n",
    "final=pd.DataFrame(enco.transform(df_bn[['LandSlope']]))\n",
    "df_bn['LandSlope']=final"
   ]
  },
  {
   "cell_type": "code",
   "execution_count": 79,
   "id": "KgJERSI_r-R8",
   "metadata": {
    "colab": {
     "base_uri": "https://localhost:8080/"
    },
    "id": "KgJERSI_r-R8",
    "outputId": "d2831576-77cb-4657-f9ef-b97f1ce545e5"
   },
   "outputs": [
    {
     "data": {
      "text/plain": [
       "array(['Norm', 'Feedr', 'PosN', 'Artery', 'RRAe', 'RRNn', 'RRAn', 'PosA',\n",
       "       'RRNe'], dtype=object)"
      ]
     },
     "execution_count": 79,
     "metadata": {},
     "output_type": "execute_result"
    }
   ],
   "source": [
    "df_bn['Condition1'].unique()"
   ]
  },
  {
   "cell_type": "code",
   "execution_count": 80,
   "id": "jEJiSFAesaKt",
   "metadata": {
    "id": "jEJiSFAesaKt"
   },
   "outputs": [],
   "source": [
    "con1_order = ['PosA', 'PosN', 'RRNn', 'RRNe', 'RRAn', 'Norm', 'RRAe', 'Feedr', 'Artery']\n",
    "enco = OrdinalEncoder (categories=[con1_order])\n",
    "enco.fit(df_bn[['Condition1']])\n",
    "final=pd.DataFrame(enco.transform(df_bn[['Condition1']]))\n",
    "df_bn['Condition1']=final"
   ]
  },
  {
   "cell_type": "code",
   "execution_count": 81,
   "id": "rOtNmYoxt4IO",
   "metadata": {
    "colab": {
     "base_uri": "https://localhost:8080/"
    },
    "id": "rOtNmYoxt4IO",
    "outputId": "852dafb5-97ac-421e-cf52-aa2516d2dd09"
   },
   "outputs": [
    {
     "data": {
      "text/plain": [
       "array(['Norm', 'Artery', 'RRNn', 'Feedr', 'PosN', 'PosA', 'RRAn', 'RRAe'],\n",
       "      dtype=object)"
      ]
     },
     "execution_count": 81,
     "metadata": {},
     "output_type": "execute_result"
    }
   ],
   "source": [
    "df_bn['Condition2'].unique()"
   ]
  },
  {
   "cell_type": "code",
   "execution_count": 82,
   "id": "fSNlZw9QuMjC",
   "metadata": {
    "id": "fSNlZw9QuMjC"
   },
   "outputs": [],
   "source": [
    "con2_order = ['PosA', 'PosN', 'RRAe', 'Norm', 'RRAn', 'Feedr', 'Artery', 'RRNn']\n",
    "enco = OrdinalEncoder (categories=[con2_order])\n",
    "enco.fit(df_bn[['Condition2']])\n",
    "final=pd.DataFrame(enco.transform(df_bn[['Condition2']]))\n",
    "df_bn['Condition2']=final"
   ]
  },
  {
   "cell_type": "code",
   "execution_count": 83,
   "id": "G_YHaQc1wkrf",
   "metadata": {
    "colab": {
     "base_uri": "https://localhost:8080/"
    },
    "id": "G_YHaQc1wkrf",
    "outputId": "0a8c5abe-5f46-4304-8a0a-f2bdccd79975"
   },
   "outputs": [
    {
     "data": {
      "text/plain": [
       "array(['1Fam', '2fmCon', 'Duplex', 'TwnhsE', 'Twnhs'], dtype=object)"
      ]
     },
     "execution_count": 83,
     "metadata": {},
     "output_type": "execute_result"
    }
   ],
   "source": [
    "df_bn['BldgType'].unique()"
   ]
  },
  {
   "cell_type": "code",
   "execution_count": 84,
   "id": "5MnSdftzyx3a",
   "metadata": {
    "id": "5MnSdftzyx3a"
   },
   "outputs": [],
   "source": [
    "bldg_order = ['TwnhsE', '1Fam', 'Twnhs', 'Duplex', '2fmCon']\n",
    "enco = OrdinalEncoder (categories=[bldg_order])\n",
    "enco.fit(df_bn[['BldgType']])\n",
    "final=pd.DataFrame(enco.transform(df_bn[['BldgType']]))\n",
    "df_bn['BldgType']=final"
   ]
  },
  {
   "cell_type": "code",
   "execution_count": 85,
   "id": "JbzQGv9--_B_",
   "metadata": {
    "colab": {
     "base_uri": "https://localhost:8080/"
    },
    "id": "JbzQGv9--_B_",
    "outputId": "a10f5e07-99b0-402a-cff7-56bbb9f50c8d"
   },
   "outputs": [
    {
     "data": {
      "text/plain": [
       "array(['2Story', '1Story', '1.5Fin', '1.5Unf', 'SFoyer', 'SLvl', '2.5Unf',\n",
       "       '2.5Fin'], dtype=object)"
      ]
     },
     "execution_count": 85,
     "metadata": {},
     "output_type": "execute_result"
    }
   ],
   "source": [
    "df_bn['HouseStyle'].unique()"
   ]
  },
  {
   "cell_type": "code",
   "execution_count": 86,
   "id": "JWq2we7C_fHk",
   "metadata": {
    "id": "JWq2we7C_fHk"
   },
   "outputs": [],
   "source": [
    "hstyle_order = ['2.5Fin', '2Story', 'SLvl', '1Story', '2.5Unf', 'SFoyer', '1.5Fin', '1.5Unf']\n",
    "enco = OrdinalEncoder (categories=[hstyle_order])\n",
    "enco.fit(df_bn[['HouseStyle']])\n",
    "final=pd.DataFrame(enco.transform(df_bn[['HouseStyle']]))\n",
    "df_bn['HouseStyle']=final"
   ]
  },
  {
   "cell_type": "code",
   "execution_count": 87,
   "id": "0qmAzViIBDFf",
   "metadata": {
    "colab": {
     "base_uri": "https://localhost:8080/"
    },
    "id": "0qmAzViIBDFf",
    "outputId": "e87a8abb-4c01-4ed6-d55e-f3150b41672e"
   },
   "outputs": [
    {
     "data": {
      "text/plain": [
       "array(['Gable', 'Hip', 'Gambrel', 'Mansard', 'Flat', 'Shed'], dtype=object)"
      ]
     },
     "execution_count": 87,
     "metadata": {},
     "output_type": "execute_result"
    }
   ],
   "source": [
    "df_bn['RoofStyle'].unique()"
   ]
  },
  {
   "cell_type": "code",
   "execution_count": 88,
   "id": "W5VhEubcBI6e",
   "metadata": {
    "id": "W5VhEubcBI6e"
   },
   "outputs": [],
   "source": [
    "rstyle_order = ['Shed', 'Flat','Hip','Mansard','Gable','Gambrel']"
   ]
  },
  {
   "cell_type": "code",
   "execution_count": 89,
   "id": "_Kdh57FLBM9R",
   "metadata": {
    "id": "_Kdh57FLBM9R"
   },
   "outputs": [],
   "source": [
    "enco = OrdinalEncoder (categories=[rstyle_order])\n",
    "enco.fit(df_bn[['RoofStyle']])\n",
    "final=pd.DataFrame(enco.transform(df_bn[['RoofStyle']]))\n",
    "df_bn['RoofStyle']=final"
   ]
  },
  {
   "cell_type": "code",
   "execution_count": 90,
   "id": "n8mC6qOcEJrE",
   "metadata": {
    "colab": {
     "base_uri": "https://localhost:8080/"
    },
    "id": "n8mC6qOcEJrE",
    "outputId": "80f3b560-1235-4202-b654-35b52fafe556"
   },
   "outputs": [
    {
     "data": {
      "text/plain": [
       "array(['CompShg', 'WdShngl', 'Metal', 'WdShake', 'Membran', 'Tar&Grv',\n",
       "       'Roll', 'ClyTile'], dtype=object)"
      ]
     },
     "execution_count": 90,
     "metadata": {},
     "output_type": "execute_result"
    }
   ],
   "source": [
    "df_bn['RoofMatl'].unique()"
   ]
  },
  {
   "cell_type": "code",
   "execution_count": 91,
   "id": "mYl_949DEOy2",
   "metadata": {
    "id": "mYl_949DEOy2"
   },
   "outputs": [],
   "source": [
    "rmatl_order = ['WdShngl', 'WdShake','Membran','Metal','Tar&Grv','CompShg','ClyTile','Roll']\n",
    "enco = OrdinalEncoder (categories=[rmatl_order])\n",
    "enco.fit(df_bn[['RoofMatl']])\n",
    "final=pd.DataFrame(enco.transform(df_bn[['RoofMatl']]))\n",
    "df_bn['RoofMatl']=final"
   ]
  },
  {
   "cell_type": "code",
   "execution_count": 92,
   "id": "wpZ5OVIKFJGM",
   "metadata": {
    "colab": {
     "base_uri": "https://localhost:8080/"
    },
    "id": "wpZ5OVIKFJGM",
    "outputId": "ce990912-5244-4616-83d8-a244312f368f"
   },
   "outputs": [
    {
     "data": {
      "text/plain": [
       "array(['BrkFace', 'None', 'Stone', 'BrkCmn'], dtype=object)"
      ]
     },
     "execution_count": 92,
     "metadata": {},
     "output_type": "execute_result"
    }
   ],
   "source": [
    "df_bn['MasVnrType'].unique()"
   ]
  },
  {
   "cell_type": "code",
   "execution_count": 93,
   "id": "VFCt3u96Gch_",
   "metadata": {
    "id": "VFCt3u96Gch_"
   },
   "outputs": [],
   "source": [
    "masvnr_order = ['Stone', 'BrkFace','None','BrkCmn']\n",
    "enco = OrdinalEncoder (categories=[masvnr_order])\n",
    "enco.fit(df_bn[['MasVnrType']])\n",
    "final=pd.DataFrame(enco.transform(df_bn[['MasVnrType']]))\n",
    "df_bn['MasVnrType']=final"
   ]
  },
  {
   "cell_type": "code",
   "execution_count": 94,
   "id": "3ruYDBH2GxET",
   "metadata": {
    "colab": {
     "base_uri": "https://localhost:8080/"
    },
    "id": "3ruYDBH2GxET",
    "outputId": "7609b550-4339-4cc1-8b88-673f76db1e21"
   },
   "outputs": [
    {
     "data": {
      "text/plain": [
       "array(['Gd', 'TA', 'Ex', 'Fa'], dtype=object)"
      ]
     },
     "execution_count": 94,
     "metadata": {},
     "output_type": "execute_result"
    }
   ],
   "source": [
    "df_bn['ExterQual'].unique()"
   ]
  },
  {
   "cell_type": "code",
   "execution_count": 95,
   "id": "zRwrSkw-HQ2h",
   "metadata": {
    "id": "zRwrSkw-HQ2h"
   },
   "outputs": [],
   "source": [
    "exqual_order = ['Ex','Gd','TA','Fa']\n",
    "enco = OrdinalEncoder (categories=[exqual_order])\n",
    "enco.fit(df_bn[['ExterQual']])\n",
    "final=pd.DataFrame(enco.transform(df_bn[['ExterQual']]))\n",
    "df_bn['ExterQual']=final"
   ]
  },
  {
   "cell_type": "code",
   "execution_count": 96,
   "id": "a7EbHxZ1I9Uo",
   "metadata": {
    "colab": {
     "base_uri": "https://localhost:8080/"
    },
    "id": "a7EbHxZ1I9Uo",
    "outputId": "1cb88320-7246-47f2-f854-d82adc3cafbf"
   },
   "outputs": [
    {
     "data": {
      "text/plain": [
       "array(['TA', 'Gd', 'Fa', 'Po', 'Ex'], dtype=object)"
      ]
     },
     "execution_count": 96,
     "metadata": {},
     "output_type": "execute_result"
    }
   ],
   "source": [
    "df_bn['ExterCond'].unique()"
   ]
  },
  {
   "cell_type": "code",
   "execution_count": 97,
   "id": "6eTCZk0qKNa9",
   "metadata": {
    "id": "6eTCZk0qKNa9"
   },
   "outputs": [],
   "source": [
    "xcond_order = ['TA','Ex', 'Gd','Fa','Po']\n",
    "enco = OrdinalEncoder (categories=[xcond_order])\n",
    "enco.fit(df_bn[['ExterCond']])\n",
    "final=pd.DataFrame(enco.transform(df_bn[['ExterCond']]))\n",
    "df_bn['ExterCond']=final"
   ]
  },
  {
   "cell_type": "code",
   "execution_count": 98,
   "id": "WLnXixhnKv1M",
   "metadata": {
    "colab": {
     "base_uri": "https://localhost:8080/"
    },
    "id": "WLnXixhnKv1M",
    "outputId": "6fca7055-1821-4e58-8f68-19133afd5f1f"
   },
   "outputs": [
    {
     "data": {
      "text/plain": [
       "array(['PConc', 'CBlock', 'BrkTil', 'Wood', 'Slab', 'Stone'], dtype=object)"
      ]
     },
     "execution_count": 98,
     "metadata": {},
     "output_type": "execute_result"
    }
   ],
   "source": [
    "df_bn['Foundation'].unique()"
   ]
  },
  {
   "cell_type": "code",
   "execution_count": 99,
   "id": "miTwgoieNKnv",
   "metadata": {
    "id": "miTwgoieNKnv"
   },
   "outputs": [],
   "source": [
    "foundation_order = ['PConc', 'Wood','CBlock','Stone','BrkTil','Slab']\n",
    "enco = OrdinalEncoder (categories=[foundation_order])\n",
    "enco.fit(df_bn[['Foundation']])\n",
    "final=pd.DataFrame(enco.transform(df_bn[['Foundation']]))\n",
    "df_bn['Foundation']=final"
   ]
  },
  {
   "cell_type": "code",
   "execution_count": 100,
   "id": "BtzO8LR9Nhof",
   "metadata": {
    "colab": {
     "base_uri": "https://localhost:8080/"
    },
    "id": "BtzO8LR9Nhof",
    "outputId": "64fdc988-a408-43c0-f735-1e5c771d34a4"
   },
   "outputs": [
    {
     "data": {
      "text/plain": [
       "array(['Gd', 'TA', 'Ex', 'Fa'], dtype=object)"
      ]
     },
     "execution_count": 100,
     "metadata": {},
     "output_type": "execute_result"
    }
   ],
   "source": [
    "df_bn['BsmtQual'].unique()"
   ]
  },
  {
   "cell_type": "code",
   "execution_count": 101,
   "id": "MHn_xqFRPeRD",
   "metadata": {
    "id": "MHn_xqFRPeRD"
   },
   "outputs": [],
   "source": [
    "bqual_order = ['Ex','Gd','TA','Fa']\n",
    "enco = OrdinalEncoder (categories=[bqual_order])\n",
    "enco.fit(df_bn[['BsmtQual']])\n",
    "final=pd.DataFrame(enco.transform(df_bn[['BsmtQual']]))\n",
    "df_bn['BsmtQual']=final"
   ]
  },
  {
   "cell_type": "code",
   "execution_count": 102,
   "id": "0N-9IbN9P6fh",
   "metadata": {
    "colab": {
     "base_uri": "https://localhost:8080/"
    },
    "id": "0N-9IbN9P6fh",
    "outputId": "869b0b03-9910-4d5d-ff10-b2ea7b71b900"
   },
   "outputs": [
    {
     "data": {
      "text/plain": [
       "array(['TA', 'Gd', 'Fa', 'Po'], dtype=object)"
      ]
     },
     "execution_count": 102,
     "metadata": {},
     "output_type": "execute_result"
    }
   ],
   "source": [
    "df_bn['BsmtCond'].unique()"
   ]
  },
  {
   "cell_type": "code",
   "execution_count": 103,
   "id": "M838e5CETCyH",
   "metadata": {
    "id": "M838e5CETCyH"
   },
   "outputs": [],
   "source": [
    "bcond_order = ['Gd','TA','Fa','Po']\n",
    "enco = OrdinalEncoder (categories=[bcond_order ])\n",
    "enco.fit(df_bn[['BsmtCond']])\n",
    "final=pd.DataFrame(enco.transform(df_bn[['BsmtCond']]))\n",
    "df_bn['BsmtCond']=final"
   ]
  },
  {
   "cell_type": "code",
   "execution_count": 104,
   "id": "Ei6QOv3RVeKp",
   "metadata": {
    "colab": {
     "base_uri": "https://localhost:8080/"
    },
    "id": "Ei6QOv3RVeKp",
    "outputId": "2d7a896c-2f62-48dc-d4ab-410384c99be6"
   },
   "outputs": [
    {
     "data": {
      "text/plain": [
       "array(['No', 'Gd', 'Mn', 'Av'], dtype=object)"
      ]
     },
     "execution_count": 104,
     "metadata": {},
     "output_type": "execute_result"
    }
   ],
   "source": [
    "df_bn['BsmtExposure'].unique()"
   ]
  },
  {
   "cell_type": "code",
   "execution_count": 105,
   "id": "LeK6mQtrXID8",
   "metadata": {
    "id": "LeK6mQtrXID8"
   },
   "outputs": [],
   "source": [
    "bexp_order = ['Gd','Av','Mn','No']\n",
    "enco = OrdinalEncoder (categories=[bexp_order])\n",
    "enco.fit(df_bn[['BsmtExposure']])\n",
    "final=pd.DataFrame(enco.transform(df_bn[['BsmtExposure']]))\n",
    "df_bn['BsmtExposure']=final"
   ]
  },
  {
   "cell_type": "code",
   "execution_count": 106,
   "id": "WNxga7huXiHL",
   "metadata": {
    "colab": {
     "base_uri": "https://localhost:8080/"
    },
    "id": "WNxga7huXiHL",
    "outputId": "fcdc42eb-3dc4-4fa4-b70f-bb3e1a7ad9d3"
   },
   "outputs": [
    {
     "data": {
      "text/plain": [
       "array(['GLQ', 'ALQ', 'Unf', 'Rec', 'BLQ', 'LwQ'], dtype=object)"
      ]
     },
     "execution_count": 106,
     "metadata": {},
     "output_type": "execute_result"
    }
   ],
   "source": [
    "df_bn['BsmtFinType1'].unique()"
   ]
  },
  {
   "cell_type": "code",
   "execution_count": 107,
   "id": "yqjUOCH6dPhj",
   "metadata": {
    "id": "yqjUOCH6dPhj"
   },
   "outputs": [],
   "source": [
    "bft_order = ['GLQ','Unf','ALQ','Rec','BLQ','LwQ']\n",
    "enco = OrdinalEncoder (categories=[bft_order])\n",
    "enco.fit(df_bn[['BsmtFinType1']])\n",
    "final=pd.DataFrame(enco.transform(df_bn[['BsmtFinType1']]))\n",
    "df_bn['BsmtFinType1']=final"
   ]
  },
  {
   "cell_type": "code",
   "execution_count": 108,
   "id": "aoTRpdIPdkru",
   "metadata": {
    "colab": {
     "base_uri": "https://localhost:8080/"
    },
    "id": "aoTRpdIPdkru",
    "outputId": "ebe011fe-0e89-4c48-a981-109ee67dd9f0"
   },
   "outputs": [
    {
     "data": {
      "text/plain": [
       "array(['Unf', 'BLQ', 'ALQ', 'Rec', 'LwQ', 'GLQ'], dtype=object)"
      ]
     },
     "execution_count": 108,
     "metadata": {},
     "output_type": "execute_result"
    }
   ],
   "source": [
    "df_bn['BsmtFinType2'].unique()"
   ]
  },
  {
   "cell_type": "code",
   "execution_count": 109,
   "id": "JEQhTG6JkqE_",
   "metadata": {
    "id": "JEQhTG6JkqE_"
   },
   "outputs": [],
   "source": [
    "bft2_order = ['GLQ','ALQ','Unf','LwQ','Rec','BLQ']\n",
    "enco = OrdinalEncoder (categories=[bft2_order])\n",
    "enco.fit(df_bn[['BsmtFinType2']])\n",
    "final=pd.DataFrame(enco.transform(df_bn[['BsmtFinType2']]))\n",
    "df_bn['BsmtFinType2']=final"
   ]
  },
  {
   "cell_type": "code",
   "execution_count": 110,
   "id": "k5pXg9wTniL7",
   "metadata": {
    "colab": {
     "base_uri": "https://localhost:8080/"
    },
    "id": "k5pXg9wTniL7",
    "outputId": "f250a335-51af-4bc6-a8b2-d2416e974e0e"
   },
   "outputs": [
    {
     "data": {
      "text/plain": [
       "array(['GasA', 'GasW', 'Grav', 'Wall', 'OthW', 'Floor'], dtype=object)"
      ]
     },
     "execution_count": 110,
     "metadata": {},
     "output_type": "execute_result"
    }
   ],
   "source": [
    "df_bn['Heating'].unique()"
   ]
  },
  {
   "cell_type": "code",
   "execution_count": 111,
   "id": "CdTqpPG7p1yg",
   "metadata": {
    "id": "CdTqpPG7p1yg"
   },
   "outputs": [],
   "source": [
    "heat_order = ['GasA','GasW','OthW','Wall','Grav','Floor']\n",
    "enco = OrdinalEncoder (categories=[heat_order])\n",
    "enco.fit(df_bn[['Heating']])\n",
    "df_bn['Heating']=final"
   ]
  },
  {
   "cell_type": "code",
   "execution_count": 112,
   "id": "mGEo7oN5reRb",
   "metadata": {
    "colab": {
     "base_uri": "https://localhost:8080/"
    },
    "id": "mGEo7oN5reRb",
    "outputId": "397c30a5-00d8-42d4-f6c0-3fcf21a07974"
   },
   "outputs": [
    {
     "data": {
      "text/plain": [
       "array(['Ex', 'Gd', 'TA', 'Fa', 'Po'], dtype=object)"
      ]
     },
     "execution_count": 112,
     "metadata": {},
     "output_type": "execute_result"
    }
   ],
   "source": [
    "df_bn['HeatingQC'].unique()"
   ]
  },
  {
   "cell_type": "code",
   "execution_count": 113,
   "id": "P2oSPg0xrmZ-",
   "metadata": {
    "id": "P2oSPg0xrmZ-"
   },
   "outputs": [],
   "source": [
    "heatqc_order = ['Ex','Gd','TA','Fa','Po']\n",
    "enco = OrdinalEncoder (categories=[heatqc_order])\n",
    "enco.fit(df_bn[['HeatingQC']])\n",
    "final=pd.DataFrame(enco.transform(df_bn[['HeatingQC']]))\n",
    "df_bn['HeatingQC']=final"
   ]
  },
  {
   "cell_type": "code",
   "execution_count": 114,
   "id": "FOPqs-Nu3dPZ",
   "metadata": {
    "colab": {
     "base_uri": "https://localhost:8080/"
    },
    "id": "FOPqs-Nu3dPZ",
    "outputId": "c3ee6041-293b-40e2-f99b-204f676872dc"
   },
   "outputs": [
    {
     "data": {
      "text/plain": [
       "array(['Y', 'N'], dtype=object)"
      ]
     },
     "execution_count": 114,
     "metadata": {},
     "output_type": "execute_result"
    }
   ],
   "source": [
    "df_bn['CentralAir'].unique()"
   ]
  },
  {
   "cell_type": "code",
   "execution_count": 115,
   "id": "nylf9XuK3hnK",
   "metadata": {
    "id": "nylf9XuK3hnK"
   },
   "outputs": [],
   "source": [
    "cair_order = ['Y','N']\n",
    "enco = OrdinalEncoder (categories=[cair_order])\n",
    "enco.fit(df_bn[['CentralAir']])\n",
    "final=pd.DataFrame(enco.transform(df_bn[['CentralAir']]))\n",
    "df_bn['CentralAir']=final"
   ]
  },
  {
   "cell_type": "code",
   "execution_count": 116,
   "id": "3SZTb27D37nM",
   "metadata": {
    "colab": {
     "base_uri": "https://localhost:8080/"
    },
    "id": "3SZTb27D37nM",
    "outputId": "752e9a7f-7198-4bd1-b3a7-a436264421c2"
   },
   "outputs": [
    {
     "data": {
      "text/plain": [
       "array(['SBrkr', 'FuseF', 'FuseA', 'FuseP', 'Mix'], dtype=object)"
      ]
     },
     "execution_count": 116,
     "metadata": {},
     "output_type": "execute_result"
    }
   ],
   "source": [
    "df_bn['Electrical'].unique()"
   ]
  },
  {
   "cell_type": "code",
   "execution_count": 117,
   "id": "X3hIDUSh7AjS",
   "metadata": {
    "id": "X3hIDUSh7AjS"
   },
   "outputs": [],
   "source": [
    "elec_order = ['SBrkr','FuseA', 'FuseF','FuseP','Mix']\n",
    "enco = OrdinalEncoder (categories=[elec_order])\n",
    "enco.fit(df_bn[['Electrical']])\n",
    "final=pd.DataFrame(enco.transform(df_bn[['Electrical']]))\n",
    "df_bn['Electrical']=final"
   ]
  },
  {
   "cell_type": "code",
   "execution_count": 118,
   "id": "hByXZucR8kwy",
   "metadata": {
    "colab": {
     "base_uri": "https://localhost:8080/"
    },
    "id": "hByXZucR8kwy",
    "outputId": "c23424fa-971b-48a9-a0e2-b45ded6f9caf"
   },
   "outputs": [
    {
     "data": {
      "text/plain": [
       "array(['Gd', 'TA', 'Ex', 'Fa'], dtype=object)"
      ]
     },
     "execution_count": 118,
     "metadata": {},
     "output_type": "execute_result"
    }
   ],
   "source": [
    "df_bn['KitchenQual'].unique()"
   ]
  },
  {
   "cell_type": "code",
   "execution_count": 119,
   "id": "_m5c4mwU8_-g",
   "metadata": {
    "id": "_m5c4mwU8_-g"
   },
   "outputs": [],
   "source": [
    "kqual_order = ['Ex','Gd', 'TA','Fa']\n",
    "enco = OrdinalEncoder (categories=[kqual_order])\n",
    "enco.fit(df_bn[['KitchenQual']])\n",
    "final=pd.DataFrame(enco.transform(df_bn[['KitchenQual']]))\n",
    "df_bn['KitchenQual']=final"
   ]
  },
  {
   "cell_type": "code",
   "execution_count": 120,
   "id": "ZRV6BiwO9oR2",
   "metadata": {
    "colab": {
     "base_uri": "https://localhost:8080/"
    },
    "id": "ZRV6BiwO9oR2",
    "outputId": "99bd760f-d5a4-4337-aa1d-6897ae7e72fb"
   },
   "outputs": [
    {
     "data": {
      "text/plain": [
       "array(['Typ', 'Min1', 'Maj1', 'Min2', 'Mod', 'Maj2', 'Sev'], dtype=object)"
      ]
     },
     "execution_count": 120,
     "metadata": {},
     "output_type": "execute_result"
    }
   ],
   "source": [
    "df_bn['Functional'].unique()"
   ]
  },
  {
   "cell_type": "code",
   "execution_count": 121,
   "id": "b8LiCkFK-cvM",
   "metadata": {
    "id": "b8LiCkFK-cvM"
   },
   "outputs": [],
   "source": [
    "fun_order = ['Typ','Maj1','Min2','Min1','Mod','Sev','Maj2']\n",
    "enco = OrdinalEncoder (categories=[fun_order])\n",
    "enco.fit(df_bn[['Functional']])\n",
    "final=pd.DataFrame(enco.transform(df_bn[['Functional']]))\n",
    "df_bn['Functional']=final"
   ]
  },
  {
   "cell_type": "code",
   "execution_count": 122,
   "id": "Nkxyj4lX-uQc",
   "metadata": {
    "colab": {
     "base_uri": "https://localhost:8080/"
    },
    "id": "Nkxyj4lX-uQc",
    "outputId": "38aa542b-9d58-490c-f6dc-db7cdbce3f86"
   },
   "outputs": [
    {
     "data": {
      "text/plain": [
       "array(['Attchd', 'Detchd', 'BuiltIn', 'CarPort', 'Basment', '2Types'],\n",
       "      dtype=object)"
      ]
     },
     "execution_count": 122,
     "metadata": {},
     "output_type": "execute_result"
    }
   ],
   "source": [
    "df_bn['GarageType'].unique()"
   ]
  },
  {
   "cell_type": "code",
   "execution_count": 123,
   "id": "go_loFhwEvvj",
   "metadata": {
    "id": "go_loFhwEvvj"
   },
   "outputs": [],
   "source": [
    "gtyp_order = ['BuiltIn','Attchd','2Types','Basment','Detchd','CarPort']\n",
    "enco = OrdinalEncoder (categories=[gtyp_order])\n",
    "enco.fit(df_bn[['GarageType']])\n",
    "final=pd.DataFrame(enco.transform(df_bn[['GarageType']]))\n",
    "df_bn['GarageType']=final"
   ]
  },
  {
   "cell_type": "code",
   "execution_count": 124,
   "id": "0CCT-_wuKHKF",
   "metadata": {
    "colab": {
     "base_uri": "https://localhost:8080/"
    },
    "id": "0CCT-_wuKHKF",
    "outputId": "12421f70-ce43-4b87-c982-3d9a60f5861b"
   },
   "outputs": [
    {
     "data": {
      "text/plain": [
       "array(['RFn', 'Unf', 'Fin'], dtype=object)"
      ]
     },
     "execution_count": 124,
     "metadata": {},
     "output_type": "execute_result"
    }
   ],
   "source": [
    "df_bn['GarageFinish'].unique()"
   ]
  },
  {
   "cell_type": "code",
   "execution_count": 125,
   "id": "UOlWhX73MfZe",
   "metadata": {
    "id": "UOlWhX73MfZe"
   },
   "outputs": [],
   "source": [
    "gfin_order = ['Fin','RFn','Unf']\n",
    "enco = OrdinalEncoder (categories=[gfin_order])\n",
    "enco.fit(df_bn[['GarageFinish']])\n",
    "final=pd.DataFrame(enco.transform(df_bn[['GarageFinish']]))\n",
    "df_bn['GarageFinish']=final"
   ]
  },
  {
   "cell_type": "code",
   "execution_count": 126,
   "id": "IJJ9-gDGNE1t",
   "metadata": {
    "colab": {
     "base_uri": "https://localhost:8080/"
    },
    "id": "IJJ9-gDGNE1t",
    "outputId": "10ebbb33-9cb6-4eaf-fe59-fac2d7aea9b9"
   },
   "outputs": [
    {
     "data": {
      "text/plain": [
       "array(['TA', 'Fa', 'Gd', 'Ex', 'Po'], dtype=object)"
      ]
     },
     "execution_count": 126,
     "metadata": {},
     "output_type": "execute_result"
    }
   ],
   "source": [
    "df_bn['GarageQual'].unique()"
   ]
  },
  {
   "cell_type": "code",
   "execution_count": 127,
   "id": "9G4MdoJKNMaU",
   "metadata": {
    "id": "9G4MdoJKNMaU"
   },
   "outputs": [],
   "source": [
    "gqa_order = ['Gd','TA','Ex','Fa','Po']\n",
    "enco = OrdinalEncoder (categories=[gqa_order])\n",
    "enco.fit(df_bn[['GarageQual']])\n",
    "final=pd.DataFrame(enco.transform(df_bn[['GarageQual']]))\n",
    "df_bn['GarageQual']=final"
   ]
  },
  {
   "cell_type": "code",
   "execution_count": 128,
   "id": "m-lkImuZQMPM",
   "metadata": {
    "colab": {
     "base_uri": "https://localhost:8080/"
    },
    "id": "m-lkImuZQMPM",
    "outputId": "fab39d38-429e-4c6b-938b-a448e9e76daf"
   },
   "outputs": [
    {
     "data": {
      "text/plain": [
       "array(['TA', 'Fa', 'Gd', 'Po', 'Ex'], dtype=object)"
      ]
     },
     "execution_count": 128,
     "metadata": {},
     "output_type": "execute_result"
    }
   ],
   "source": [
    "df_bn['GarageCond'].unique()"
   ]
  },
  {
   "cell_type": "code",
   "execution_count": 129,
   "id": "jJV9k0QmQ1T8",
   "metadata": {
    "id": "jJV9k0QmQ1T8"
   },
   "outputs": [],
   "source": [
    "gcond_order = ['TA','Gd','Ex','Fa','Po']\n",
    "enco = OrdinalEncoder (categories=[gcond_order])\n",
    "enco.fit(df_bn[['GarageCond']])\n",
    "final=pd.DataFrame(enco.transform(df_bn[['GarageCond']]))\n",
    "df_bn['GarageCond']=final"
   ]
  },
  {
   "cell_type": "code",
   "execution_count": 130,
   "id": "hsz5d14MShPR",
   "metadata": {
    "colab": {
     "base_uri": "https://localhost:8080/"
    },
    "id": "hsz5d14MShPR",
    "outputId": "7e165746-7e35-42e5-ea48-c62700578405"
   },
   "outputs": [
    {
     "data": {
      "text/plain": [
       "array(['Y', 'N', 'P'], dtype=object)"
      ]
     },
     "execution_count": 130,
     "metadata": {},
     "output_type": "execute_result"
    }
   ],
   "source": [
    "df_bn['PavedDrive'].unique()"
   ]
  },
  {
   "cell_type": "code",
   "execution_count": 131,
   "id": "XPgF5sAnThcb",
   "metadata": {
    "id": "XPgF5sAnThcb"
   },
   "outputs": [],
   "source": [
    "pdrive_order = ['Y','P','N']\n",
    "enco = OrdinalEncoder (categories=[pdrive_order])\n",
    "enco.fit(df_bn[['PavedDrive']])\n",
    "final=pd.DataFrame(enco.transform(df_bn[['PavedDrive']]))\n",
    "df_bn['PavedDrive']=final"
   ]
  },
  {
   "cell_type": "code",
   "execution_count": 132,
   "id": "p9vgpEA4r23m",
   "metadata": {
    "colab": {
     "base_uri": "https://localhost:8080/"
    },
    "id": "p9vgpEA4r23m",
    "outputId": "fe53e40b-82e3-488e-c3ba-a59a28cdceec"
   },
   "outputs": [
    {
     "data": {
      "text/plain": [
       "array(['WD', 'New', 'COD', 'ConLD', 'ConLI', 'CWD', 'ConLw', 'Con', 'Oth'],\n",
       "      dtype=object)"
      ]
     },
     "execution_count": 132,
     "metadata": {},
     "output_type": "execute_result"
    }
   ],
   "source": [
    "df_bn['SaleType'].unique()"
   ]
  },
  {
   "cell_type": "code",
   "execution_count": 133,
   "id": "iYNpjdKLuB2U",
   "metadata": {
    "id": "iYNpjdKLuB2U"
   },
   "outputs": [],
   "source": [
    "sltyp_order = ['Con','New','CWD','WD','COD','ConLw','ConLD','ConLI','Oth']\n",
    "enco = OrdinalEncoder (categories=[sltyp_order])\n",
    "enco.fit(df_bn[['SaleType']])\n",
    "final=pd.DataFrame(enco.transform(df_bn[['SaleType']]))\n",
    "df_bn['SaleType']=final"
   ]
  },
  {
   "cell_type": "code",
   "execution_count": 134,
   "id": "tpX64FTQuxO2",
   "metadata": {
    "colab": {
     "base_uri": "https://localhost:8080/"
    },
    "id": "tpX64FTQuxO2",
    "outputId": "cde762c9-f267-4c70-c275-3c53bbf7711f"
   },
   "outputs": [],
   "source": [
    "df_bn['SaleCondition'].unique()\n",
    "slcnd_order = ['Partial','Normal','Alloca','Family','Abnorml','AdjLand']\n",
    "enco = OrdinalEncoder (categories=[slcnd_order])\n",
    "enco.fit(df_bn[['SaleCondition']])\n",
    "final=pd.DataFrame(enco.transform(df_bn[['SaleCondition']]))\n",
    "df_bn['SaleCondition']=final"
   ]
  },
  {
   "cell_type": "code",
   "execution_count": 135,
   "id": "nqqTp6omYbrX",
   "metadata": {
    "colab": {
     "base_uri": "https://localhost:8080/"
    },
    "collapsed": true,
    "id": "nqqTp6omYbrX",
    "jupyter": {
     "outputs_hidden": true
    },
    "outputId": "70dff717-79d1-40ad-ad29-9d6c518e9498",
    "tags": []
   },
   "outputs": [
    {
     "data": {
      "text/plain": [
       "10    MeadowV\n",
       "9      IDOTRR\n",
       "2      BrDale\n",
       "17    OldTown\n",
       "7     Edwards\n",
       "3     BrkSide\n",
       "19     Sawyer\n",
       "1     Blueste\n",
       "18      SWISU\n",
       "12      NAmes\n",
       "13    NPkVill\n",
       "11    Mitchel\n",
       "20    SawyerW\n",
       "8     Gilbert\n",
       "14     NWAmes\n",
       "0     Blmngtn\n",
       "5     CollgCr\n",
       "4     ClearCr\n",
       "6     Crawfor\n",
       "24    Veenker\n",
       "21    Somerst\n",
       "23     Timber\n",
       "22    StoneBr\n",
       "15    NoRidge\n",
       "16    NridgHt\n",
       "Name: Neighborhood, dtype: object"
      ]
     },
     "execution_count": 135,
     "metadata": {},
     "output_type": "execute_result"
    }
   ],
   "source": [
    "df.groupby(['Neighborhood'])['SalePrice'].aggregate(np.median).reset_index().sort_values('SalePrice')['Neighborhood']"
   ]
  },
  {
   "cell_type": "code",
   "execution_count": 136,
   "id": "qkP8jqT_dBX_",
   "metadata": {
    "colab": {
     "base_uri": "https://localhost:8080/",
     "height": 283
    },
    "id": "qkP8jqT_dBX_",
    "outputId": "6da1b187-a6d8-41fd-dc25-72b01514d402"
   },
   "outputs": [
    {
     "data": {
      "text/plain": [
       "<AxesSubplot:>"
      ]
     },
     "execution_count": 136,
     "metadata": {},
     "output_type": "execute_result"
    },
    {
     "data": {
      "image/png": "[encoded data removed]",
      "text/plain": [
       "<Figure size 432x288 with 1 Axes>"
      ]
     },
     "metadata": {
      "needs_background": "light"
     },
     "output_type": "display_data"
    }
   ],
   "source": [
    "df.groupby(['Neighborhood'])['SalePrice'].aggregate(np.median).reset_index().sort_values('SalePrice').plot.bar()"
   ]
  },
  {
   "cell_type": "code",
   "execution_count": 137,
   "id": "WQFP1-oAier1",
   "metadata": {
    "id": "WQFP1-oAier1"
   },
   "outputs": [],
   "source": [
    "neighb_order = ['MeadowV','IDOTRR','BrDale','OldTown','Edwards','BrkSide','Sawyer','Blueste','SWISU','NAmes','NPkVill','Mitchel','SawyerW','Gilbert','NWAmes','Blmngtn','CollgCr','ClearCr','Crawfor','Veenker','Somerst','Timber','StoneBr','NoRidge','NridgHt']\n",
    "neighb_order.reverse()\n",
    "enco = OrdinalEncoder (categories=[neighb_order])\n",
    "enco.fit(df_bn[['Neighborhood']])\n",
    "final=pd.DataFrame(enco.transform(df_bn[['Neighborhood']]))\n",
    "df_bn['Neighborhood']=final"
   ]
  },
  {
   "cell_type": "code",
   "execution_count": 138,
   "id": "c0DViY03l4wm",
   "metadata": {
    "colab": {
     "base_uri": "https://localhost:8080/"
    },
    "id": "c0DViY03l4wm",
    "outputId": "75096d8e-09a1-4adc-b0cb-46bf9130edc1",
    "tags": []
   },
   "outputs": [
    {
     "data": {
      "text/plain": [
       "2     BrkComm\n",
       "1     AsphShn\n",
       "4      CBlock\n",
       "0     AsbShng\n",
       "14    WdShing\n",
       "13    Wd Sdng\n",
       "8     MetalSd\n",
       "11     Stucco\n",
       "6     HdBoard\n",
       "3     BrkFace\n",
       "9     Plywood\n",
       "12    VinylSd\n",
       "5     CemntBd\n",
       "10      Stone\n",
       "7     ImStucc\n",
       "Name: Exterior1st, dtype: object"
      ]
     },
     "execution_count": 138,
     "metadata": {},
     "output_type": "execute_result"
    }
   ],
   "source": [
    "df_bn.groupby(['Exterior1st'])['SalePrice'].aggregate(np.median).reset_index().sort_values('SalePrice')['Exterior1st']"
   ]
  },
  {
   "cell_type": "code",
   "execution_count": 139,
   "id": "NMxwPTTzmasi",
   "metadata": {
    "id": "NMxwPTTzmasi"
   },
   "outputs": [],
   "source": [
    "exterior1st_order = ['BrkComm','AsphShn','CBlock','AsbShng','WdShing','Wd Sdng','MetalSd','Stucco','HdBoard','BrkFace','Plywood','VinylSd','CemntBd','Stone','ImStucc']\n",
    "exterior1st_order.reverse()\n",
    "enco = OrdinalEncoder (categories=[exterior1st_order])\n",
    "enco.fit(df_bn[['Exterior1st']])\n",
    "final=pd.DataFrame(enco.transform(df_bn[['Exterior1st']]))\n",
    "df_bn['Exterior1st']=final"
   ]
  },
  {
   "cell_type": "code",
   "execution_count": 140,
   "id": "poP_qEEWnsyC",
   "metadata": {
    "id": "poP_qEEWnsyC"
   },
   "outputs": [],
   "source": [
    "exterior2nd_order = ['CBlock','AsbShng','Wd Sdng','Wd Shng','MetalSd','AsphShn','Stucco','Brk Cmn','HdBoard','BrkFace','Plywood','Stone','ImStucc','VinylSd','CmentBd','Other']\n",
    "exterior2nd_order.reverse()\n",
    "enco = OrdinalEncoder (categories=[exterior2nd_order])\n",
    "enco.fit(df_bn[['Exterior2nd']])\n",
    "final=pd.DataFrame(enco.transform(df_bn[['Exterior2nd']]))\n",
    "df_bn['Exterior2nd']=final"
   ]
  },
  {
   "cell_type": "code",
   "execution_count": 141,
   "id": "U9d1KK63pfdi",
   "metadata": {
    "colab": {
     "base_uri": "https://localhost:8080/"
    },
    "id": "U9d1KK63pfdi",
    "outputId": "d7baec30-b909-4a48-cd02-4a72c479f9a7"
   },
   "outputs": [
    {
     "data": {
      "text/plain": [
       "3    Po\n",
       "2    Gd\n",
       "1    Fa\n",
       "4    TA\n",
       "0    Ex\n",
       "Name: FireplaceQu, dtype: object"
      ]
     },
     "execution_count": 141,
     "metadata": {},
     "output_type": "execute_result"
    }
   ],
   "source": [
    "df.groupby(['FireplaceQu'])['SalePrice'].aggregate(np.median).reset_index().sort_values('SalePrice')['FireplaceQu']"
   ]
  },
  {
   "cell_type": "code",
   "execution_count": 142,
   "id": "qU8hpySdx5hg",
   "metadata": {
    "id": "qU8hpySdx5hg"
   },
   "outputs": [],
   "source": [
    "fireplace_order = ['NA','Po','Gd','Fa','TA','Ex']\n",
    "fireplace_order.reverse()\n",
    "enco = OrdinalEncoder (categories=[fireplace_order])\n",
    "enco.fit(df_bn[['FireplaceQu']])\n",
    "final=pd.DataFrame(enco.transform(df_bn[['FireplaceQu']]))\n",
    "df_bn['FireplaceQu']=final"
   ]
  },
  {
   "cell_type": "markdown",
   "id": "c28b8f09-cb53-4cc8-be58-b8acd22f5352",
   "metadata": {},
   "source": [
    "--------------------------------------------------------------------"
   ]
  },
  {
   "cell_type": "code",
   "execution_count": 143,
   "id": "ZcZ1O9_oy_TO",
   "metadata": {
    "id": "ZcZ1O9_oy_TO"
   },
   "outputs": [],
   "source": [
    "for feature in df_bn.columns:\n",
    "    if df_bn[feature].dtype=='O':\n",
    "        print(feature)"
   ]
  },
  {
   "cell_type": "code",
   "execution_count": 144,
   "id": "g534wz4E4gA9",
   "metadata": {
    "colab": {
     "base_uri": "https://localhost:8080/",
     "height": 428
    },
    "id": "g534wz4E4gA9",
    "outputId": "97b175a6-7538-4cad-dea9-3f758505d922"
   },
   "outputs": [
    {
     "data": {
      "text/html": [
       "<div>\n",
       "<style scoped>\n",
       "    .dataframe tbody tr th:only-of-type {\n",
       "        vertical-align: middle;\n",
       "    }\n",
       "\n",
       "    .dataframe tbody tr th {\n",
       "        vertical-align: top;\n",
       "    }\n",
       "\n",
       "    .dataframe thead th {\n",
       "        text-align: right;\n",
       "    }\n",
       "</style>\n",
       "<table border=\"1\" class=\"dataframe\">\n",
       "  <thead>\n",
       "    <tr style=\"text-align: right;\">\n",
       "      <th></th>\n",
       "      <th>MSSubClass</th>\n",
       "      <th>MSZoning</th>\n",
       "      <th>LotFrontage</th>\n",
       "      <th>LotArea</th>\n",
       "      <th>Street</th>\n",
       "      <th>LotShape</th>\n",
       "      <th>LandContour</th>\n",
       "      <th>Utilities</th>\n",
       "      <th>LotConfig</th>\n",
       "      <th>LandSlope</th>\n",
       "      <th>...</th>\n",
       "      <th>EnclosedPorch</th>\n",
       "      <th>3SsnPorch</th>\n",
       "      <th>ScreenPorch</th>\n",
       "      <th>PoolArea</th>\n",
       "      <th>MiscVal</th>\n",
       "      <th>MoSold</th>\n",
       "      <th>YrSold</th>\n",
       "      <th>SaleType</th>\n",
       "      <th>SaleCondition</th>\n",
       "      <th>SalePrice</th>\n",
       "    </tr>\n",
       "  </thead>\n",
       "  <tbody>\n",
       "    <tr>\n",
       "      <th>0</th>\n",
       "      <td>60</td>\n",
       "      <td>1.0</td>\n",
       "      <td>65.0</td>\n",
       "      <td>8450</td>\n",
       "      <td>0.0</td>\n",
       "      <td>3.0</td>\n",
       "      <td>2.0</td>\n",
       "      <td>0.0</td>\n",
       "      <td>3.0</td>\n",
       "      <td>2.0</td>\n",
       "      <td>...</td>\n",
       "      <td>0</td>\n",
       "      <td>0</td>\n",
       "      <td>0</td>\n",
       "      <td>0</td>\n",
       "      <td>0</td>\n",
       "      <td>2</td>\n",
       "      <td>2008</td>\n",
       "      <td>3.0</td>\n",
       "      <td>1.0</td>\n",
       "      <td>208500</td>\n",
       "    </tr>\n",
       "    <tr>\n",
       "      <th>1</th>\n",
       "      <td>20</td>\n",
       "      <td>1.0</td>\n",
       "      <td>80.0</td>\n",
       "      <td>9600</td>\n",
       "      <td>0.0</td>\n",
       "      <td>3.0</td>\n",
       "      <td>2.0</td>\n",
       "      <td>0.0</td>\n",
       "      <td>2.0</td>\n",
       "      <td>2.0</td>\n",
       "      <td>...</td>\n",
       "      <td>0</td>\n",
       "      <td>0</td>\n",
       "      <td>0</td>\n",
       "      <td>0</td>\n",
       "      <td>0</td>\n",
       "      <td>5</td>\n",
       "      <td>2007</td>\n",
       "      <td>3.0</td>\n",
       "      <td>1.0</td>\n",
       "      <td>181500</td>\n",
       "    </tr>\n",
       "    <tr>\n",
       "      <th>2</th>\n",
       "      <td>60</td>\n",
       "      <td>1.0</td>\n",
       "      <td>68.0</td>\n",
       "      <td>11250</td>\n",
       "      <td>0.0</td>\n",
       "      <td>2.0</td>\n",
       "      <td>2.0</td>\n",
       "      <td>0.0</td>\n",
       "      <td>3.0</td>\n",
       "      <td>2.0</td>\n",
       "      <td>...</td>\n",
       "      <td>0</td>\n",
       "      <td>0</td>\n",
       "      <td>0</td>\n",
       "      <td>0</td>\n",
       "      <td>0</td>\n",
       "      <td>9</td>\n",
       "      <td>2008</td>\n",
       "      <td>3.0</td>\n",
       "      <td>1.0</td>\n",
       "      <td>223500</td>\n",
       "    </tr>\n",
       "    <tr>\n",
       "      <th>3</th>\n",
       "      <td>70</td>\n",
       "      <td>1.0</td>\n",
       "      <td>60.0</td>\n",
       "      <td>9550</td>\n",
       "      <td>0.0</td>\n",
       "      <td>2.0</td>\n",
       "      <td>2.0</td>\n",
       "      <td>0.0</td>\n",
       "      <td>4.0</td>\n",
       "      <td>2.0</td>\n",
       "      <td>...</td>\n",
       "      <td>272</td>\n",
       "      <td>0</td>\n",
       "      <td>0</td>\n",
       "      <td>0</td>\n",
       "      <td>0</td>\n",
       "      <td>2</td>\n",
       "      <td>2006</td>\n",
       "      <td>3.0</td>\n",
       "      <td>4.0</td>\n",
       "      <td>140000</td>\n",
       "    </tr>\n",
       "    <tr>\n",
       "      <th>4</th>\n",
       "      <td>60</td>\n",
       "      <td>1.0</td>\n",
       "      <td>84.0</td>\n",
       "      <td>14260</td>\n",
       "      <td>0.0</td>\n",
       "      <td>2.0</td>\n",
       "      <td>2.0</td>\n",
       "      <td>0.0</td>\n",
       "      <td>2.0</td>\n",
       "      <td>2.0</td>\n",
       "      <td>...</td>\n",
       "      <td>0</td>\n",
       "      <td>0</td>\n",
       "      <td>0</td>\n",
       "      <td>0</td>\n",
       "      <td>0</td>\n",
       "      <td>12</td>\n",
       "      <td>2008</td>\n",
       "      <td>3.0</td>\n",
       "      <td>1.0</td>\n",
       "      <td>250000</td>\n",
       "    </tr>\n",
       "    <tr>\n",
       "      <th>...</th>\n",
       "      <td>...</td>\n",
       "      <td>...</td>\n",
       "      <td>...</td>\n",
       "      <td>...</td>\n",
       "      <td>...</td>\n",
       "      <td>...</td>\n",
       "      <td>...</td>\n",
       "      <td>...</td>\n",
       "      <td>...</td>\n",
       "      <td>...</td>\n",
       "      <td>...</td>\n",
       "      <td>...</td>\n",
       "      <td>...</td>\n",
       "      <td>...</td>\n",
       "      <td>...</td>\n",
       "      <td>...</td>\n",
       "      <td>...</td>\n",
       "      <td>...</td>\n",
       "      <td>...</td>\n",
       "      <td>...</td>\n",
       "      <td>...</td>\n",
       "    </tr>\n",
       "    <tr>\n",
       "      <th>1455</th>\n",
       "      <td>60</td>\n",
       "      <td>1.0</td>\n",
       "      <td>62.0</td>\n",
       "      <td>7917</td>\n",
       "      <td>0.0</td>\n",
       "      <td>3.0</td>\n",
       "      <td>2.0</td>\n",
       "      <td>0.0</td>\n",
       "      <td>3.0</td>\n",
       "      <td>2.0</td>\n",
       "      <td>...</td>\n",
       "      <td>0</td>\n",
       "      <td>0</td>\n",
       "      <td>0</td>\n",
       "      <td>0</td>\n",
       "      <td>0</td>\n",
       "      <td>8</td>\n",
       "      <td>2007</td>\n",
       "      <td>3.0</td>\n",
       "      <td>1.0</td>\n",
       "      <td>175000</td>\n",
       "    </tr>\n",
       "    <tr>\n",
       "      <th>1456</th>\n",
       "      <td>20</td>\n",
       "      <td>1.0</td>\n",
       "      <td>85.0</td>\n",
       "      <td>13175</td>\n",
       "      <td>0.0</td>\n",
       "      <td>3.0</td>\n",
       "      <td>2.0</td>\n",
       "      <td>0.0</td>\n",
       "      <td>3.0</td>\n",
       "      <td>2.0</td>\n",
       "      <td>...</td>\n",
       "      <td>0</td>\n",
       "      <td>0</td>\n",
       "      <td>0</td>\n",
       "      <td>0</td>\n",
       "      <td>0</td>\n",
       "      <td>2</td>\n",
       "      <td>2010</td>\n",
       "      <td>3.0</td>\n",
       "      <td>1.0</td>\n",
       "      <td>210000</td>\n",
       "    </tr>\n",
       "    <tr>\n",
       "      <th>1457</th>\n",
       "      <td>70</td>\n",
       "      <td>1.0</td>\n",
       "      <td>66.0</td>\n",
       "      <td>9042</td>\n",
       "      <td>0.0</td>\n",
       "      <td>3.0</td>\n",
       "      <td>2.0</td>\n",
       "      <td>0.0</td>\n",
       "      <td>3.0</td>\n",
       "      <td>2.0</td>\n",
       "      <td>...</td>\n",
       "      <td>0</td>\n",
       "      <td>0</td>\n",
       "      <td>0</td>\n",
       "      <td>0</td>\n",
       "      <td>2500</td>\n",
       "      <td>5</td>\n",
       "      <td>2010</td>\n",
       "      <td>3.0</td>\n",
       "      <td>1.0</td>\n",
       "      <td>266500</td>\n",
       "    </tr>\n",
       "    <tr>\n",
       "      <th>1458</th>\n",
       "      <td>20</td>\n",
       "      <td>1.0</td>\n",
       "      <td>68.0</td>\n",
       "      <td>9717</td>\n",
       "      <td>0.0</td>\n",
       "      <td>3.0</td>\n",
       "      <td>2.0</td>\n",
       "      <td>0.0</td>\n",
       "      <td>3.0</td>\n",
       "      <td>2.0</td>\n",
       "      <td>...</td>\n",
       "      <td>112</td>\n",
       "      <td>0</td>\n",
       "      <td>0</td>\n",
       "      <td>0</td>\n",
       "      <td>0</td>\n",
       "      <td>4</td>\n",
       "      <td>2010</td>\n",
       "      <td>3.0</td>\n",
       "      <td>1.0</td>\n",
       "      <td>142125</td>\n",
       "    </tr>\n",
       "    <tr>\n",
       "      <th>1459</th>\n",
       "      <td>20</td>\n",
       "      <td>1.0</td>\n",
       "      <td>75.0</td>\n",
       "      <td>9937</td>\n",
       "      <td>0.0</td>\n",
       "      <td>3.0</td>\n",
       "      <td>2.0</td>\n",
       "      <td>0.0</td>\n",
       "      <td>3.0</td>\n",
       "      <td>2.0</td>\n",
       "      <td>...</td>\n",
       "      <td>0</td>\n",
       "      <td>0</td>\n",
       "      <td>0</td>\n",
       "      <td>0</td>\n",
       "      <td>0</td>\n",
       "      <td>6</td>\n",
       "      <td>2008</td>\n",
       "      <td>3.0</td>\n",
       "      <td>1.0</td>\n",
       "      <td>147500</td>\n",
       "    </tr>\n",
       "  </tbody>\n",
       "</table>\n",
       "<p>1460 rows × 76 columns</p>\n",
       "</div>"
      ],
      "text/plain": [
       "      MSSubClass  MSZoning  LotFrontage  LotArea  Street  LotShape  \\\n",
       "0             60       1.0         65.0     8450     0.0       3.0   \n",
       "1             20       1.0         80.0     9600     0.0       3.0   \n",
       "2             60       1.0         68.0    11250     0.0       2.0   \n",
       "3             70       1.0         60.0     9550     0.0       2.0   \n",
       "4             60       1.0         84.0    14260     0.0       2.0   \n",
       "...          ...       ...          ...      ...     ...       ...   \n",
       "1455          60       1.0         62.0     7917     0.0       3.0   \n",
       "1456          20       1.0         85.0    13175     0.0       3.0   \n",
       "1457          70       1.0         66.0     9042     0.0       3.0   \n",
       "1458          20       1.0         68.0     9717     0.0       3.0   \n",
       "1459          20       1.0         75.0     9937     0.0       3.0   \n",
       "\n",
       "      LandContour  Utilities  LotConfig  LandSlope  ...  EnclosedPorch  \\\n",
       "0             2.0        0.0        3.0        2.0  ...              0   \n",
       "1             2.0        0.0        2.0        2.0  ...              0   \n",
       "2             2.0        0.0        3.0        2.0  ...              0   \n",
       "3             2.0        0.0        4.0        2.0  ...            272   \n",
       "4             2.0        0.0        2.0        2.0  ...              0   \n",
       "...           ...        ...        ...        ...  ...            ...   \n",
       "1455          2.0        0.0        3.0        2.0  ...              0   \n",
       "1456          2.0        0.0        3.0        2.0  ...              0   \n",
       "1457          2.0        0.0        3.0        2.0  ...              0   \n",
       "1458          2.0        0.0        3.0        2.0  ...            112   \n",
       "1459          2.0        0.0        3.0        2.0  ...              0   \n",
       "\n",
       "      3SsnPorch  ScreenPorch  PoolArea  MiscVal  MoSold  YrSold  SaleType  \\\n",
       "0             0            0         0        0       2    2008       3.0   \n",
       "1             0            0         0        0       5    2007       3.0   \n",
       "2             0            0         0        0       9    2008       3.0   \n",
       "3             0            0         0        0       2    2006       3.0   \n",
       "4             0            0         0        0      12    2008       3.0   \n",
       "...         ...          ...       ...      ...     ...     ...       ...   \n",
       "1455          0            0         0        0       8    2007       3.0   \n",
       "1456          0            0         0        0       2    2010       3.0   \n",
       "1457          0            0         0     2500       5    2010       3.0   \n",
       "1458          0            0         0        0       4    2010       3.0   \n",
       "1459          0            0         0        0       6    2008       3.0   \n",
       "\n",
       "      SaleCondition  SalePrice  \n",
       "0               1.0     208500  \n",
       "1               1.0     181500  \n",
       "2               1.0     223500  \n",
       "3               4.0     140000  \n",
       "4               1.0     250000  \n",
       "...             ...        ...  \n",
       "1455            1.0     175000  \n",
       "1456            1.0     210000  \n",
       "1457            1.0     266500  \n",
       "1458            1.0     142125  \n",
       "1459            1.0     147500  \n",
       "\n",
       "[1460 rows x 76 columns]"
      ]
     },
     "execution_count": 144,
     "metadata": {},
     "output_type": "execute_result"
    }
   ],
   "source": [
    "df_bn"
   ]
  },
  {
   "cell_type": "code",
   "execution_count": 145,
   "id": "Rh3mLkOG6iEK",
   "metadata": {
    "id": "Rh3mLkOG6iEK"
   },
   "outputs": [],
   "source": [
    "#df_bn.to_csv('train_numerical.csv',index=False)"
   ]
  }
 ],
 "metadata": {
  "colab": {
   "include_colab_link": true,
   "name": "Project.ipynb",
   "provenance": []
  },
  "kernelspec": {
   "display_name": "Python 3 (ipykernel)",
   "language": "python",
   "name": "python3"
  },
  "language_info": {
   "codemirror_mode": {
    "name": "ipython",
    "version": 3
   },
   "file_extension": ".py",
   "mimetype": "text/x-python",
   "name": "python",
   "nbconvert_exporter": "python",
   "pygments_lexer": "ipython3",
   "version": "3.9.6"
  }
 },
 "nbformat": 4,
 "nbformat_minor": 5
}
